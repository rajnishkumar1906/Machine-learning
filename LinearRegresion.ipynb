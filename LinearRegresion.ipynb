{
 "cells": [
  {
   "cell_type": "code",
   "execution_count": 23,
   "id": "7532a6da-14b3-43e8-9cef-1f8a5629dcc3",
   "metadata": {
    "tags": []
   },
   "outputs": [],
   "source": [
    "import pandas as pd\n",
    "import numpy as np"
   ]
  },
  {
   "cell_type": "code",
   "execution_count": 24,
   "id": "740ecac7-617e-4de2-b755-bb6fa1e458e7",
   "metadata": {
    "tags": []
   },
   "outputs": [
    {
     "data": {
      "text/html": [
       "<div>\n",
       "<style scoped>\n",
       "    .dataframe tbody tr th:only-of-type {\n",
       "        vertical-align: middle;\n",
       "    }\n",
       "\n",
       "    .dataframe tbody tr th {\n",
       "        vertical-align: top;\n",
       "    }\n",
       "\n",
       "    .dataframe thead th {\n",
       "        text-align: right;\n",
       "    }\n",
       "</style>\n",
       "<table border=\"1\" class=\"dataframe\">\n",
       "  <thead>\n",
       "    <tr style=\"text-align: right;\">\n",
       "      <th></th>\n",
       "      <th>age</th>\n",
       "      <th>gender</th>\n",
       "      <th>bmi</th>\n",
       "      <th>children</th>\n",
       "      <th>smoker</th>\n",
       "      <th>region</th>\n",
       "      <th>charges</th>\n",
       "    </tr>\n",
       "  </thead>\n",
       "  <tbody>\n",
       "    <tr>\n",
       "      <th>0</th>\n",
       "      <td>19</td>\n",
       "      <td>female</td>\n",
       "      <td>27.900</td>\n",
       "      <td>0</td>\n",
       "      <td>yes</td>\n",
       "      <td>southwest</td>\n",
       "      <td>16884.92400</td>\n",
       "    </tr>\n",
       "    <tr>\n",
       "      <th>1</th>\n",
       "      <td>18</td>\n",
       "      <td>male</td>\n",
       "      <td>33.770</td>\n",
       "      <td>1</td>\n",
       "      <td>no</td>\n",
       "      <td>southeast</td>\n",
       "      <td>1725.55230</td>\n",
       "    </tr>\n",
       "    <tr>\n",
       "      <th>2</th>\n",
       "      <td>28</td>\n",
       "      <td>male</td>\n",
       "      <td>33.000</td>\n",
       "      <td>3</td>\n",
       "      <td>no</td>\n",
       "      <td>southeast</td>\n",
       "      <td>4449.46200</td>\n",
       "    </tr>\n",
       "    <tr>\n",
       "      <th>3</th>\n",
       "      <td>33</td>\n",
       "      <td>male</td>\n",
       "      <td>22.705</td>\n",
       "      <td>0</td>\n",
       "      <td>no</td>\n",
       "      <td>northwest</td>\n",
       "      <td>21984.47061</td>\n",
       "    </tr>\n",
       "    <tr>\n",
       "      <th>4</th>\n",
       "      <td>32</td>\n",
       "      <td>male</td>\n",
       "      <td>28.880</td>\n",
       "      <td>0</td>\n",
       "      <td>no</td>\n",
       "      <td>northwest</td>\n",
       "      <td>3866.85520</td>\n",
       "    </tr>\n",
       "    <tr>\n",
       "      <th>...</th>\n",
       "      <td>...</td>\n",
       "      <td>...</td>\n",
       "      <td>...</td>\n",
       "      <td>...</td>\n",
       "      <td>...</td>\n",
       "      <td>...</td>\n",
       "      <td>...</td>\n",
       "    </tr>\n",
       "    <tr>\n",
       "      <th>1333</th>\n",
       "      <td>50</td>\n",
       "      <td>male</td>\n",
       "      <td>30.970</td>\n",
       "      <td>3</td>\n",
       "      <td>no</td>\n",
       "      <td>northwest</td>\n",
       "      <td>10600.54830</td>\n",
       "    </tr>\n",
       "    <tr>\n",
       "      <th>1334</th>\n",
       "      <td>18</td>\n",
       "      <td>female</td>\n",
       "      <td>31.920</td>\n",
       "      <td>0</td>\n",
       "      <td>no</td>\n",
       "      <td>northeast</td>\n",
       "      <td>2205.98080</td>\n",
       "    </tr>\n",
       "    <tr>\n",
       "      <th>1335</th>\n",
       "      <td>18</td>\n",
       "      <td>female</td>\n",
       "      <td>36.850</td>\n",
       "      <td>0</td>\n",
       "      <td>no</td>\n",
       "      <td>southeast</td>\n",
       "      <td>1629.83350</td>\n",
       "    </tr>\n",
       "    <tr>\n",
       "      <th>1336</th>\n",
       "      <td>21</td>\n",
       "      <td>female</td>\n",
       "      <td>25.800</td>\n",
       "      <td>0</td>\n",
       "      <td>no</td>\n",
       "      <td>southwest</td>\n",
       "      <td>2007.94500</td>\n",
       "    </tr>\n",
       "    <tr>\n",
       "      <th>1337</th>\n",
       "      <td>61</td>\n",
       "      <td>female</td>\n",
       "      <td>29.070</td>\n",
       "      <td>0</td>\n",
       "      <td>yes</td>\n",
       "      <td>northwest</td>\n",
       "      <td>29141.36030</td>\n",
       "    </tr>\n",
       "  </tbody>\n",
       "</table>\n",
       "<p>1338 rows × 7 columns</p>\n",
       "</div>"
      ],
      "text/plain": [
       "      age  gender     bmi  children smoker     region      charges\n",
       "0      19  female  27.900         0    yes  southwest  16884.92400\n",
       "1      18    male  33.770         1     no  southeast   1725.55230\n",
       "2      28    male  33.000         3     no  southeast   4449.46200\n",
       "3      33    male  22.705         0     no  northwest  21984.47061\n",
       "4      32    male  28.880         0     no  northwest   3866.85520\n",
       "...   ...     ...     ...       ...    ...        ...          ...\n",
       "1333   50    male  30.970         3     no  northwest  10600.54830\n",
       "1334   18  female  31.920         0     no  northeast   2205.98080\n",
       "1335   18  female  36.850         0     no  southeast   1629.83350\n",
       "1336   21  female  25.800         0     no  southwest   2007.94500\n",
       "1337   61  female  29.070         0    yes  northwest  29141.36030\n",
       "\n",
       "[1338 rows x 7 columns]"
      ]
     },
     "execution_count": 24,
     "metadata": {},
     "output_type": "execute_result"
    }
   ],
   "source": [
    "df = pd.read_csv(\"insurance.csv\")\n",
    "df"
   ]
  },
  {
   "cell_type": "code",
   "execution_count": 25,
   "id": "c4c987ff-e799-4b4f-89d8-1e63897f2436",
   "metadata": {
    "tags": []
   },
   "outputs": [
    {
     "data": {
      "text/plain": [
       "(1338, 7)"
      ]
     },
     "execution_count": 25,
     "metadata": {},
     "output_type": "execute_result"
    }
   ],
   "source": [
    "# No. of rows and columns\n",
    "df.shape"
   ]
  },
  {
   "cell_type": "code",
   "execution_count": 39,
   "id": "cf5034ac-b647-4df8-9371-2ffcf3041d20",
   "metadata": {},
   "outputs": [],
   "source": [
    "X = df.drop(columns = ['charges','gender','region','smoker'])          # Features of datasets"
   ]
  },
  {
   "cell_type": "code",
   "execution_count": 40,
   "id": "fbdc3365-fd63-4dcc-9012-4c4b672497df",
   "metadata": {
    "tags": []
   },
   "outputs": [],
   "source": [
    "y = df['charges']                         # Target variables of datasets"
   ]
  },
  {
   "cell_type": "code",
   "execution_count": 41,
   "id": "f464a9a5-df1e-4a70-9d2f-5e53d2e6f073",
   "metadata": {
    "tags": []
   },
   "outputs": [],
   "source": [
    "from sklearn.model_selection import train_test_split\n",
    "X_train, x_test, y_train, y_test = train_test_split(X,y,test_size = 0.25)"
   ]
  },
  {
   "cell_type": "code",
   "execution_count": 42,
   "id": "0c892561-2bfd-4334-836f-d2102e4c241d",
   "metadata": {
    "tags": []
   },
   "outputs": [
    {
     "data": {
      "text/html": [
       "<div>\n",
       "<style scoped>\n",
       "    .dataframe tbody tr th:only-of-type {\n",
       "        vertical-align: middle;\n",
       "    }\n",
       "\n",
       "    .dataframe tbody tr th {\n",
       "        vertical-align: top;\n",
       "    }\n",
       "\n",
       "    .dataframe thead th {\n",
       "        text-align: right;\n",
       "    }\n",
       "</style>\n",
       "<table border=\"1\" class=\"dataframe\">\n",
       "  <thead>\n",
       "    <tr style=\"text-align: right;\">\n",
       "      <th></th>\n",
       "      <th>age</th>\n",
       "      <th>bmi</th>\n",
       "      <th>children</th>\n",
       "    </tr>\n",
       "  </thead>\n",
       "  <tbody>\n",
       "    <tr>\n",
       "      <th>1273</th>\n",
       "      <td>35</td>\n",
       "      <td>27.610</td>\n",
       "      <td>1</td>\n",
       "    </tr>\n",
       "    <tr>\n",
       "      <th>590</th>\n",
       "      <td>58</td>\n",
       "      <td>29.000</td>\n",
       "      <td>0</td>\n",
       "    </tr>\n",
       "    <tr>\n",
       "      <th>139</th>\n",
       "      <td>22</td>\n",
       "      <td>36.000</td>\n",
       "      <td>0</td>\n",
       "    </tr>\n",
       "    <tr>\n",
       "      <th>915</th>\n",
       "      <td>24</td>\n",
       "      <td>33.990</td>\n",
       "      <td>0</td>\n",
       "    </tr>\n",
       "    <tr>\n",
       "      <th>969</th>\n",
       "      <td>39</td>\n",
       "      <td>34.320</td>\n",
       "      <td>5</td>\n",
       "    </tr>\n",
       "    <tr>\n",
       "      <th>...</th>\n",
       "      <td>...</td>\n",
       "      <td>...</td>\n",
       "      <td>...</td>\n",
       "    </tr>\n",
       "    <tr>\n",
       "      <th>534</th>\n",
       "      <td>64</td>\n",
       "      <td>40.480</td>\n",
       "      <td>0</td>\n",
       "    </tr>\n",
       "    <tr>\n",
       "      <th>445</th>\n",
       "      <td>45</td>\n",
       "      <td>33.100</td>\n",
       "      <td>0</td>\n",
       "    </tr>\n",
       "    <tr>\n",
       "      <th>200</th>\n",
       "      <td>19</td>\n",
       "      <td>32.110</td>\n",
       "      <td>0</td>\n",
       "    </tr>\n",
       "    <tr>\n",
       "      <th>318</th>\n",
       "      <td>44</td>\n",
       "      <td>27.645</td>\n",
       "      <td>0</td>\n",
       "    </tr>\n",
       "    <tr>\n",
       "      <th>815</th>\n",
       "      <td>20</td>\n",
       "      <td>31.460</td>\n",
       "      <td>0</td>\n",
       "    </tr>\n",
       "  </tbody>\n",
       "</table>\n",
       "<p>1003 rows × 3 columns</p>\n",
       "</div>"
      ],
      "text/plain": [
       "      age     bmi  children\n",
       "1273   35  27.610         1\n",
       "590    58  29.000         0\n",
       "139    22  36.000         0\n",
       "915    24  33.990         0\n",
       "969    39  34.320         5\n",
       "...   ...     ...       ...\n",
       "534    64  40.480         0\n",
       "445    45  33.100         0\n",
       "200    19  32.110         0\n",
       "318    44  27.645         0\n",
       "815    20  31.460         0\n",
       "\n",
       "[1003 rows x 3 columns]"
      ]
     },
     "execution_count": 42,
     "metadata": {},
     "output_type": "execute_result"
    }
   ],
   "source": [
    "X_train"
   ]
  },
  {
   "cell_type": "code",
   "execution_count": 43,
   "id": "80bf07d5-cf88-4efc-a014-ffc504fb7b7e",
   "metadata": {
    "tags": []
   },
   "outputs": [],
   "source": [
    "from sklearn.linear_model import LinearRegression\n",
    "lr = LinearRegression()"
   ]
  },
  {
   "cell_type": "code",
   "execution_count": 44,
   "id": "6d413b5e-d4c7-4442-953f-578a0210db2e",
   "metadata": {
    "tags": []
   },
   "outputs": [
    {
     "data": {
      "text/html": [
       "<style>#sk-container-id-3 {color: black;}#sk-container-id-3 pre{padding: 0;}#sk-container-id-3 div.sk-toggleable {background-color: white;}#sk-container-id-3 label.sk-toggleable__label {cursor: pointer;display: block;width: 100%;margin-bottom: 0;padding: 0.3em;box-sizing: border-box;text-align: center;}#sk-container-id-3 label.sk-toggleable__label-arrow:before {content: \"▸\";float: left;margin-right: 0.25em;color: #696969;}#sk-container-id-3 label.sk-toggleable__label-arrow:hover:before {color: black;}#sk-container-id-3 div.sk-estimator:hover label.sk-toggleable__label-arrow:before {color: black;}#sk-container-id-3 div.sk-toggleable__content {max-height: 0;max-width: 0;overflow: hidden;text-align: left;background-color: #f0f8ff;}#sk-container-id-3 div.sk-toggleable__content pre {margin: 0.2em;color: black;border-radius: 0.25em;background-color: #f0f8ff;}#sk-container-id-3 input.sk-toggleable__control:checked~div.sk-toggleable__content {max-height: 200px;max-width: 100%;overflow: auto;}#sk-container-id-3 input.sk-toggleable__control:checked~label.sk-toggleable__label-arrow:before {content: \"▾\";}#sk-container-id-3 div.sk-estimator input.sk-toggleable__control:checked~label.sk-toggleable__label {background-color: #d4ebff;}#sk-container-id-3 div.sk-label input.sk-toggleable__control:checked~label.sk-toggleable__label {background-color: #d4ebff;}#sk-container-id-3 input.sk-hidden--visually {border: 0;clip: rect(1px 1px 1px 1px);clip: rect(1px, 1px, 1px, 1px);height: 1px;margin: -1px;overflow: hidden;padding: 0;position: absolute;width: 1px;}#sk-container-id-3 div.sk-estimator {font-family: monospace;background-color: #f0f8ff;border: 1px dotted black;border-radius: 0.25em;box-sizing: border-box;margin-bottom: 0.5em;}#sk-container-id-3 div.sk-estimator:hover {background-color: #d4ebff;}#sk-container-id-3 div.sk-parallel-item::after {content: \"\";width: 100%;border-bottom: 1px solid gray;flex-grow: 1;}#sk-container-id-3 div.sk-label:hover label.sk-toggleable__label {background-color: #d4ebff;}#sk-container-id-3 div.sk-serial::before {content: \"\";position: absolute;border-left: 1px solid gray;box-sizing: border-box;top: 0;bottom: 0;left: 50%;z-index: 0;}#sk-container-id-3 div.sk-serial {display: flex;flex-direction: column;align-items: center;background-color: white;padding-right: 0.2em;padding-left: 0.2em;position: relative;}#sk-container-id-3 div.sk-item {position: relative;z-index: 1;}#sk-container-id-3 div.sk-parallel {display: flex;align-items: stretch;justify-content: center;background-color: white;position: relative;}#sk-container-id-3 div.sk-item::before, #sk-container-id-3 div.sk-parallel-item::before {content: \"\";position: absolute;border-left: 1px solid gray;box-sizing: border-box;top: 0;bottom: 0;left: 50%;z-index: -1;}#sk-container-id-3 div.sk-parallel-item {display: flex;flex-direction: column;z-index: 1;position: relative;background-color: white;}#sk-container-id-3 div.sk-parallel-item:first-child::after {align-self: flex-end;width: 50%;}#sk-container-id-3 div.sk-parallel-item:last-child::after {align-self: flex-start;width: 50%;}#sk-container-id-3 div.sk-parallel-item:only-child::after {width: 0;}#sk-container-id-3 div.sk-dashed-wrapped {border: 1px dashed gray;margin: 0 0.4em 0.5em 0.4em;box-sizing: border-box;padding-bottom: 0.4em;background-color: white;}#sk-container-id-3 div.sk-label label {font-family: monospace;font-weight: bold;display: inline-block;line-height: 1.2em;}#sk-container-id-3 div.sk-label-container {text-align: center;}#sk-container-id-3 div.sk-container {/* jupyter's `normalize.less` sets `[hidden] { display: none; }` but bootstrap.min.css set `[hidden] { display: none !important; }` so we also need the `!important` here to be able to override the default hidden behavior on the sphinx rendered scikit-learn.org. See: https://github.com/scikit-learn/scikit-learn/issues/21755 */display: inline-block !important;position: relative;}#sk-container-id-3 div.sk-text-repr-fallback {display: none;}</style><div id=\"sk-container-id-3\" class=\"sk-top-container\"><div class=\"sk-text-repr-fallback\"><pre>LinearRegression()</pre><b>In a Jupyter environment, please rerun this cell to show the HTML representation or trust the notebook. <br />On GitHub, the HTML representation is unable to render, please try loading this page with nbviewer.org.</b></div><div class=\"sk-container\" hidden><div class=\"sk-item\"><div class=\"sk-estimator sk-toggleable\"><input class=\"sk-toggleable__control sk-hidden--visually\" id=\"sk-estimator-id-3\" type=\"checkbox\" checked><label for=\"sk-estimator-id-3\" class=\"sk-toggleable__label sk-toggleable__label-arrow\">LinearRegression</label><div class=\"sk-toggleable__content\"><pre>LinearRegression()</pre></div></div></div></div></div>"
      ],
      "text/plain": [
       "LinearRegression()"
      ]
     },
     "execution_count": 44,
     "metadata": {},
     "output_type": "execute_result"
    }
   ],
   "source": [
    "lr.fit(X_train,y_train)"
   ]
  },
  {
   "cell_type": "code",
   "execution_count": 45,
   "id": "d6554bc6-38e6-4dbd-8100-94f088a845c1",
   "metadata": {
    "tags": []
   },
   "outputs": [
    {
     "data": {
      "text/plain": [
       "-6322.526454445264"
      ]
     },
     "execution_count": 45,
     "metadata": {},
     "output_type": "execute_result"
    }
   ],
   "source": [
    "# Intercept\n",
    "c = lr.intercept_\n",
    "c"
   ]
  },
  {
   "cell_type": "code",
   "execution_count": 46,
   "id": "ecf1c697-cffd-4251-ab7d-9bd5ce7a7df9",
   "metadata": {
    "tags": []
   },
   "outputs": [
    {
     "data": {
      "text/plain": [
       "array([221.00819066, 342.8683826 , 570.06989068])"
      ]
     },
     "execution_count": 46,
     "metadata": {},
     "output_type": "execute_result"
    }
   ],
   "source": [
    "# Slope of the line\n",
    "m = lr.coef_\n",
    "m"
   ]
  },
  {
   "cell_type": "markdown",
   "id": "0a4dca88-e31d-4a0b-8bdc-80bcb01aa8d0",
   "metadata": {
    "tags": []
   },
   "source": [
    "Training is done now"
   ]
  },
  {
   "cell_type": "code",
   "execution_count": 47,
   "id": "8934e51e-7351-48a7-a261-f5f8a2ea6f3f",
   "metadata": {
    "tags": []
   },
   "outputs": [
    {
     "data": {
      "text/plain": [
       "array([11449.42615289, 16439.13169922, 10882.91551364, ...,\n",
       "        8886.13293335, 12880.43037155,  8884.27667532])"
      ]
     },
     "execution_count": 47,
     "metadata": {},
     "output_type": "execute_result"
    }
   ],
   "source": [
    "y_pred_train = lr.predict(X_train)\n",
    "y_pred_train"
   ]
  },
  {
   "cell_type": "code",
   "execution_count": 48,
   "id": "48c56c51-5a28-41c8-b9f2-8fa396a76a49",
   "metadata": {
    "tags": []
   },
   "outputs": [
    {
     "data": {
      "text/plain": [
       "Text(0, 0.5, 'Predicted Ptrices')"
      ]
     },
     "execution_count": 48,
     "metadata": {},
     "output_type": "execute_result"
    },
    {
     "data": {
      "image/png": "[encoded data removed]",
      "text/plain": [
       "<Figure size 640x480 with 1 Axes>"
      ]
     },
     "metadata": {},
     "output_type": "display_data"
    }
   ],
   "source": [
    "import matplotlib.pyplot as plt\n",
    "plt.scatter(y_train,y_pred_train,c='brown')\n",
    "plt.xlabel(\"Actual Prices\")\n",
    "plt.ylabel(\"Predicted Ptrices\")"
   ]
  },
  {
   "cell_type": "code",
   "execution_count": 49,
   "id": "a8054a47-b561-4cfa-9da9-63b54014c66f",
   "metadata": {
    "tags": []
   },
   "outputs": [
    {
     "data": {
      "text/plain": [
       "array([ 8248.39774171, 22921.21776033, 14732.58971126, 15713.66988927,\n",
       "       10074.89280815, 14364.96543095, 15178.80656093, 11973.52080253,\n",
       "       11817.30008361, 12080.11653041, 11038.17154024, 12402.39011301,\n",
       "       17194.19725186, 14851.49249807,  7329.65239246,  8032.24874456,\n",
       "        9412.29398452,  9928.45281645,  9166.11017125, 13048.05566102,\n",
       "       20852.14898746, 10651.77453614, 17901.89109935,  8632.46720909,\n",
       "       18259.62691814, 13162.19564009, 20173.72349664, 14683.50968764,\n",
       "        7673.95128474, 17256.63448983, 17084.43383908, 15110.50004305,\n",
       "       21581.69218295,  8909.38463265, 18584.92010982, 12064.06893331,\n",
       "       13592.36489266, 10247.58210956, 14984.60932099, 19046.07275934,\n",
       "       11892.39041668, 16060.68788479, 12506.1817004 , 15909.54196422,\n",
       "        8727.76077564,  8962.85257108, 15338.61525176,  6345.47821829,\n",
       "       11761.22623755, 15930.58534587, 20175.16535484, 11459.50206087,\n",
       "       10101.51631241, 13076.15520531, 16640.70311585, 15540.1866684 ,\n",
       "       15304.70863151,  8295.73526504, 13264.56217913,  9099.05204166,\n",
       "        5477.59546197,  7420.37059774, 13555.26256538, 17245.05984478,\n",
       "        9305.87421832, 16432.93305672,  9797.89637079,  9416.46096941,\n",
       "       12182.97704519,  9528.26206324, 10616.96556376, 20867.05593056,\n",
       "        7442.65704261, 15879.43892071, 16816.85458454,  6820.49284431,\n",
       "        8711.70715509, 11812.72472233, 16016.45570615, 11186.84800797,\n",
       "       15637.43287874, 13799.64699949, 14848.50623619,  9549.15750533,\n",
       "        6966.79694334, 14725.97666894, 14229.90128931, 12119.87575699,\n",
       "       16019.16948432, 10482.20262631, 12440.3157786 , 15542.66746976,\n",
       "       14008.07578378, 10767.98091674, 14032.32622097, 12107.35322948,\n",
       "       19538.56549214, 14683.59472489, 11743.81635816, 10956.77413201,\n",
       "       11433.78693217, 13298.36092884, 10770.48987648, 14896.59887044,\n",
       "       14207.71725365,  6882.97561262, 15384.14204741, 11214.57265934,\n",
       "       15185.8058447 ,  9804.35614848, 16604.44093675, 19857.68876181,\n",
       "       10123.61531082,  9876.6650381 , 20007.4436796 , 15969.96967952,\n",
       "       20085.67886427, 15867.39299697,  9428.64278582, 14151.04758475,\n",
       "       11179.93376145, 17141.57478667, 14959.35944755,  9893.28632311,\n",
       "       11012.21810966, 15816.82025972, 15218.75323397, 20641.93763387,\n",
       "       17021.47446699, 12792.61339091, 13391.2534062 ,  7092.22171178,\n",
       "       14531.37581559, 23317.07145415, 19282.94110064, 15101.50791021,\n",
       "       18455.38523536,  9184.29785861, 12457.55025843, 13331.41072732,\n",
       "       15758.40206708,  9991.0888494 , 16554.31062144, 14392.78114301,\n",
       "       11752.09821205,  9151.20322815,  9460.57939032, 14434.77082217,\n",
       "        8364.9729918 , 16115.26299378, 16730.71174054, 14827.50838488,\n",
       "       15780.63163309,  6534.68037205, 17672.89021211, 15498.66756956,\n",
       "       15931.83443253, 11084.12940931, 15518.90498486,  9505.11277315,\n",
       "       16907.15306491, 10816.97590312, 15311.52046881, 13438.7268222 ,\n",
       "        8693.1445748 , 17156.25477641, 10608.39385419, 18086.90413328,\n",
       "       17844.89206787,  9632.87642683,  7523.24246104,  3869.96849593,\n",
       "       12456.8346544 , 18471.15502367, 14762.88020123, 12110.45255073,\n",
       "       15216.51675794, 15909.67253181, 15060.26731853,  8444.83748113,\n",
       "       15626.52830738, 16232.34370438, 15623.43431121, 14462.39908776,\n",
       "       14764.97476115, 16654.09451202, 20235.68945592, 16290.40970113,\n",
       "       11344.86264472, 16427.64811486, 19159.51450635,  4665.42314356,\n",
       "       19693.91790451, 13774.66414842, 19373.76171513,  4836.85733486,\n",
       "       11082.34684001, 16470.87553217, 14550.77840779, 15217.54967765,\n",
       "       16193.74250377, 17270.71809461, 15286.61200483, 13955.72034096,\n",
       "       11317.50686284, 10500.75918316,  6871.35543723, 17941.55394015,\n",
       "       17983.32801447, 13156.18976913,  7785.5254252 , 19739.24590517,\n",
       "        9023.4222025 , 20154.97346989, 12926.3373852 , 17209.10419496,\n",
       "        9328.06427742, 19176.17529826, 11026.49448598, 19706.95121761,\n",
       "        5596.31080231, 15498.47479802, 10451.76419678, 15980.11983832,\n",
       "       16331.26474973, 13274.77454188, 19471.37679495,  8954.42277763,\n",
       "       14408.28390895,  8711.61076932, 14761.93231877, 13331.35384846,\n",
       "       14236.81553583,  7039.88910227, 11589.33813953,  8657.95538442,\n",
       "       21819.74138352, 15795.53255274,  7164.64982047, 12747.83568274,\n",
       "       14831.58444535, 18450.05476316,  9639.30804614, 15726.096031  ,\n",
       "       15030.1300932 ,  8981.85224824,  8365.07540101, 11994.16113288,\n",
       "        7578.38523449, 10193.46623238, 11417.36444214,  5482.17082324,\n",
       "       19397.09845167, 10668.91795527, 15208.09831301, 15768.68209512,\n",
       "       14711.4044135 , 16054.82995339, 17291.73331788, 11305.56334832,\n",
       "       14456.25130069, 17708.44897033,  6017.32933233,  8816.32754213,\n",
       "        8820.98794065,  8192.6873038 , 14071.23395085,  8329.11372774,\n",
       "       13055.13998204, 19987.53562688, 10493.48741568,  8402.03581217,\n",
       "       13130.27584546, 14506.73367561, 16802.1350879 , 11185.64445166,\n",
       "       12789.81457549,  7457.94420371, 13736.6647941 ,  8467.26584211,\n",
       "       12082.95485273, 17739.5681237 , 19981.01897033, 15540.20404036,\n",
       "       16742.28638558, 14781.39725117, 11233.70290409, 19003.78720105,\n",
       "       15357.61492892, 10591.39235118, 13031.8661478 ,  3127.80036372,\n",
       "       12017.39546021, 12570.03809953, 12305.59234806,  9521.16037026,\n",
       "       20240.02651531, 18259.19514635, 12415.12278403, 14895.78688065,\n",
       "       10414.61633916, 11049.93363174, 17858.89063541, 13453.12900315,\n",
       "       17635.02142538, 14715.79232831, 12842.28377604, 11135.37222024,\n",
       "       13117.58856853, 16451.40457632, 11538.95215037,  7940.44074071,\n",
       "        8421.12052658, 17186.7266894 ,  6730.49556813, 11027.37470316,\n",
       "       17126.15705798, 20618.41345086, 14228.13609197, 16756.55743683,\n",
       "       13316.48641226, 12894.15645538, 16532.85283997,  7716.95174869,\n",
       "       18389.48513174,  6263.4341318 , 20074.53599102, 16114.406172  ,\n",
       "       15012.2088661 ,  9358.48533498, 10696.06359364, 11465.28097846,\n",
       "       15066.99411859, 13152.85747108, 13347.2139991 ])"
      ]
     },
     "execution_count": 49,
     "metadata": {},
     "output_type": "execute_result"
    }
   ],
   "source": [
    "# Prediction on test set\n",
    "predictions = lr.predict(x_test)\n",
    "predictions"
   ]
  },
  {
   "cell_type": "code",
   "execution_count": 50,
   "id": "c8e05e5a-8619-4bb8-86b9-9c8b695f0f43",
   "metadata": {
    "tags": []
   },
   "outputs": [
    {
     "data": {
      "text/plain": [
       "121839436.852816"
      ]
     },
     "execution_count": 50,
     "metadata": {},
     "output_type": "execute_result"
    }
   ],
   "source": [
    "# Evaluation of model using mean squared error\n",
    "from sklearn.metrics import mean_squared_error\n",
    "mse = mean_squared_error(y_test,predictions)\n",
    "mse"
   ]
  },
  {
   "cell_type": "code",
   "execution_count": 51,
   "id": "8e9345c0-4604-4235-907b-53d2eb0b14f9",
   "metadata": {
    "tags": []
   },
   "outputs": [
    {
     "data": {
      "text/html": [
       "<div>\n",
       "<style scoped>\n",
       "    .dataframe tbody tr th:only-of-type {\n",
       "        vertical-align: middle;\n",
       "    }\n",
       "\n",
       "    .dataframe tbody tr th {\n",
       "        vertical-align: top;\n",
       "    }\n",
       "\n",
       "    .dataframe thead th {\n",
       "        text-align: right;\n",
       "    }\n",
       "</style>\n",
       "<table border=\"1\" class=\"dataframe\">\n",
       "  <thead>\n",
       "    <tr style=\"text-align: right;\">\n",
       "      <th></th>\n",
       "      <th>Age</th>\n",
       "      <th>bmi</th>\n",
       "      <th>children</th>\n",
       "    </tr>\n",
       "  </thead>\n",
       "  <tbody>\n",
       "    <tr>\n",
       "      <th>0</th>\n",
       "      <td>60</td>\n",
       "      <td>36.955</td>\n",
       "      <td>0</td>\n",
       "    </tr>\n",
       "    <tr>\n",
       "      <th>1</th>\n",
       "      <td>39</td>\n",
       "      <td>26.410</td>\n",
       "      <td>0</td>\n",
       "    </tr>\n",
       "    <tr>\n",
       "      <th>2</th>\n",
       "      <td>29</td>\n",
       "      <td>22.895</td>\n",
       "      <td>0</td>\n",
       "    </tr>\n",
       "    <tr>\n",
       "      <th>3</th>\n",
       "      <td>58</td>\n",
       "      <td>39.050</td>\n",
       "      <td>0</td>\n",
       "    </tr>\n",
       "    <tr>\n",
       "      <th>4</th>\n",
       "      <td>62</td>\n",
       "      <td>25.000</td>\n",
       "      <td>0</td>\n",
       "    </tr>\n",
       "    <tr>\n",
       "      <th>5</th>\n",
       "      <td>45</td>\n",
       "      <td>28.335</td>\n",
       "      <td>3</td>\n",
       "    </tr>\n",
       "    <tr>\n",
       "      <th>6</th>\n",
       "      <td>31</td>\n",
       "      <td>18.700</td>\n",
       "      <td>2</td>\n",
       "    </tr>\n",
       "    <tr>\n",
       "      <th>7</th>\n",
       "      <td>55</td>\n",
       "      <td>33.210</td>\n",
       "      <td>1</td>\n",
       "    </tr>\n",
       "    <tr>\n",
       "      <th>8</th>\n",
       "      <td>27</td>\n",
       "      <td>20.500</td>\n",
       "      <td>1</td>\n",
       "    </tr>\n",
       "    <tr>\n",
       "      <th>9</th>\n",
       "      <td>33</td>\n",
       "      <td>24.800</td>\n",
       "      <td>2</td>\n",
       "    </tr>\n",
       "    <tr>\n",
       "      <th>10</th>\n",
       "      <td>49</td>\n",
       "      <td>31.750</td>\n",
       "      <td>3</td>\n",
       "    </tr>\n",
       "    <tr>\n",
       "      <th>11</th>\n",
       "      <td>37</td>\n",
       "      <td>27.100</td>\n",
       "      <td>4</td>\n",
       "    </tr>\n",
       "    <tr>\n",
       "      <th>12</th>\n",
       "      <td>42</td>\n",
       "      <td>35.600</td>\n",
       "      <td>1</td>\n",
       "    </tr>\n",
       "    <tr>\n",
       "      <th>13</th>\n",
       "      <td>51</td>\n",
       "      <td>29.900</td>\n",
       "      <td>2</td>\n",
       "    </tr>\n",
       "    <tr>\n",
       "      <th>14</th>\n",
       "      <td>23</td>\n",
       "      <td>19.450</td>\n",
       "      <td>4</td>\n",
       "    </tr>\n",
       "    <tr>\n",
       "      <th>15</th>\n",
       "      <td>56</td>\n",
       "      <td>38.200</td>\n",
       "      <td>0</td>\n",
       "    </tr>\n",
       "    <tr>\n",
       "      <th>16</th>\n",
       "      <td>30</td>\n",
       "      <td>22.700</td>\n",
       "      <td>3</td>\n",
       "    </tr>\n",
       "    <tr>\n",
       "      <th>17</th>\n",
       "      <td>44</td>\n",
       "      <td>34.900</td>\n",
       "      <td>2</td>\n",
       "    </tr>\n",
       "    <tr>\n",
       "      <th>18</th>\n",
       "      <td>48</td>\n",
       "      <td>30.500</td>\n",
       "      <td>1</td>\n",
       "    </tr>\n",
       "    <tr>\n",
       "      <th>19</th>\n",
       "      <td>26</td>\n",
       "      <td>21.300</td>\n",
       "      <td>4</td>\n",
       "    </tr>\n",
       "  </tbody>\n",
       "</table>\n",
       "</div>"
      ],
      "text/plain": [
       "    Age     bmi  children\n",
       "0    60  36.955         0\n",
       "1    39  26.410         0\n",
       "2    29  22.895         0\n",
       "3    58  39.050         0\n",
       "4    62  25.000         0\n",
       "5    45  28.335         3\n",
       "6    31  18.700         2\n",
       "7    55  33.210         1\n",
       "8    27  20.500         1\n",
       "9    33  24.800         2\n",
       "10   49  31.750         3\n",
       "11   37  27.100         4\n",
       "12   42  35.600         1\n",
       "13   51  29.900         2\n",
       "14   23  19.450         4\n",
       "15   56  38.200         0\n",
       "16   30  22.700         3\n",
       "17   44  34.900         2\n",
       "18   48  30.500         1\n",
       "19   26  21.300         4"
      ]
     },
     "execution_count": 51,
     "metadata": {},
     "output_type": "execute_result"
    }
   ],
   "source": [
    "data = {\n",
    "    'data_point_' + str(i): {'Age': row[0], 'bmi': row[1], 'children': row[2]} for i, row in enumerate([\n",
    "        [60, 36.955, 0],\n",
    "        [39, 26.41, 0],\n",
    "        [29, 22.895, 0],\n",
    "        [58, 39.05, 0],\n",
    "        [62, 25.0, 0],\n",
    "        [45, 28.335, 3],\n",
    "        [31, 18.7, 2],\n",
    "        [55, 33.21, 1],\n",
    "        [27, 20.5, 1],\n",
    "        [33, 24.8, 2],\n",
    "        [49, 31.75, 3],\n",
    "        [37, 27.1, 4],\n",
    "        [42, 35.6, 1],\n",
    "        [51, 29.9, 2],\n",
    "        [23, 19.45, 4],\n",
    "        [56, 38.2, 0],\n",
    "        [30, 22.7, 3],\n",
    "        [44, 34.9, 2],\n",
    "        [48, 30.5, 1],\n",
    "        [26, 21.3, 4]\n",
    "    ])\n",
    "}\n",
    "\n",
    "a = {key: {col: data[col][key] for col in data} for key in data['data_point_0']}\n",
    "\n",
    "df0 = pd.DataFrame(a)\n",
    "df0 = df0.reset_index(drop=True)\n",
    "\n",
    "df0"
   ]
  },
  {
   "cell_type": "code",
   "execution_count": 52,
   "id": "fc852c5c-674f-449f-b3ce-4708f3c93d50",
   "metadata": {
    "tags": []
   },
   "outputs": [
    {
     "name": "stdout",
     "output_type": "stream",
     "text": [
      "Mean Squared Error: 9.261633173503307e-27\n"
     ]
    },
    {
     "data": {
      "image/png": "[encoded data removed]",
      "text/plain": [
       "<Figure size 1200x600 with 1 Axes>"
      ]
     },
     "metadata": {},
     "output_type": "display_data"
    }
   ],
   "source": [
    "import pandas as pd\n",
    "import numpy as np\n",
    "from sklearn.model_selection import train_test_split\n",
    "from sklearn.linear_model import LinearRegression\n",
    "from sklearn.metrics import mean_squared_error\n",
    "import matplotlib.pyplot as plt\n",
    "\n",
    "data = pd.read_csv(\"NFLX.csv\")\n",
    "\n",
    "# Parse dates and set 'Date' as the index\n",
    "data['Date'] = pd.to_datetime(data['Date'], format='%d-%m-%Y')\n",
    "data.set_index('Date', inplace=True)\n",
    "\n",
    "# Fetch day, month, and year from the 'Date' column\n",
    "data['Day'] = data.index.day\n",
    "data['Month'] = data.index.month\n",
    "data['Year'] = data.index.year\n",
    "\n",
    "# Select features and target variable\n",
    "features = ['Open', 'High', 'Low', 'Close', 'Adj Close', 'Volume', 'Day', 'Month', 'Year']\n",
    "target = 'Close'\n",
    "\n",
    "train_data, test_data = train_test_split(data, test_size=0.2, shuffle=False)\n",
    "\n",
    "# Prepare the training data\n",
    "X_train = train_data[features]\n",
    "y_train = train_data[target]\n",
    "\n",
    "# Prepare the testing data\n",
    "X_test = test_data[features]\n",
    "y_test = test_data[target]\n",
    "\n",
    "# Train a linear regression model\n",
    "model = LinearRegression() \n",
    "model.fit(X_train, y_train)\n",
    "\n",
    "# Make predictions on the test set\n",
    "predictions = model.predict(X_test)\n",
    "\n",
    "# Evaluate the model using mean squared error\n",
    "mse = mean_squared_error(y_test, predictions)\n",
    "print(\"Mean Squared Error:\", mse)\n",
    "\n",
    "# Sort test data by index\n",
    "test_data = test_data.sort_index()\n",
    "\n",
    "# Plot the actual vs. predicted closing prices\n",
    "plt.figure(figsize=(12, 6))\n",
    "plt.plot(test_data.index, y_test, label='Actual Close Price', color='blue')\n",
    "plt.plot(test_data.index, predictions, label='Predicted Close Price', color='red')\n",
    "plt.title('Netflix Stock Price Prediction')\n",
    "plt.xlabel('Date')\n",
    "plt.ylabel('Close Price')\n",
    "plt.legend()\n",
    "plt.show()"
   ]
  }
 ],
 "metadata": {
  "kernelspec": {
   "display_name": "Python 3 (ipykernel)",
   "language": "python",
   "name": "python3"
  },
  "language_info": {
   "codemirror_mode": {
    "name": "ipython",
    "version": 3
   },
   "file_extension": ".py",
   "mimetype": "text/x-python",
   "name": "python",
   "nbconvert_exporter": "python",
   "pygments_lexer": "ipython3",
   "version": "3.11.5"
  }
 },
 "nbformat": 4,
 "nbformat_minor": 5
}
