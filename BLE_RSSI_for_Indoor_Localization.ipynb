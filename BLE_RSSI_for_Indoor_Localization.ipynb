{
 "cells": [
  {
   "cell_type": "markdown",
   "id": "db49c0cc-d349-44cc-8d54-6db3ab019628",
   "metadata": {},
   "source": [
    "CLASSIFY AND PREDICT THE LOCATION OF THE USER TO RECEIVE A GOOD SIGNAL STRENGTH.\n",
    "BUILDING 2 DIFFERENT MODEL AND COMPARING THEM\n",
    "THE RSSI DATASET HAS 13 BEACON READINGS WHICH TELLS THE STRENGTH OF THE SIGNAL, RSSI READINGS ARE REPRESENTED IN NEGATIVE, \n",
    "IF IT IS –50 IT REPRESENTS THE USER IS CLOSE TO THE IBEACON AND HENCE THE STRENGTH OF SIGNAL IS MUCH STRONG THAN THE VALUE –95\n",
    "WHICH REPRESENTS THE USER ISN'T IN THE CLOSE PROXIMITY OF THE BEACON AND HENCE THE STRENGTH OF THE SIGNAL IS WEAK. \n",
    "BLE RSSI LABELED DATASET IS USED TO TRAIN DIFFERENT CLASSIFIERS AND ANALYZE THE PERFORMANCE."
   ]
  },
  {
   "cell_type": "code",
   "execution_count": 275,
   "id": "4659c9c3-a4fb-4316-a55f-446df2311c60",
   "metadata": {
    "tags": []
   },
   "outputs": [],
   "source": [
    "import pandas as pd\n",
    "import numpy as np"
   ]
  },
  {
   "cell_type": "code",
   "execution_count": 276,
   "id": "c5786bb6-d2dd-4b1f-8694-dc01c19c37b2",
   "metadata": {
    "tags": []
   },
   "outputs": [
    {
     "data": {
      "text/html": [
       "<div>\n",
       "<style scoped>\n",
       "    .dataframe tbody tr th:only-of-type {\n",
       "        vertical-align: middle;\n",
       "    }\n",
       "\n",
       "    .dataframe tbody tr th {\n",
       "        vertical-align: top;\n",
       "    }\n",
       "\n",
       "    .dataframe thead th {\n",
       "        text-align: right;\n",
       "    }\n",
       "</style>\n",
       "<table border=\"1\" class=\"dataframe\">\n",
       "  <thead>\n",
       "    <tr style=\"text-align: right;\">\n",
       "      <th></th>\n",
       "      <th>location</th>\n",
       "      <th>date</th>\n",
       "      <th>b3001</th>\n",
       "      <th>b3002</th>\n",
       "      <th>b3003</th>\n",
       "      <th>b3004</th>\n",
       "      <th>b3005</th>\n",
       "      <th>b3006</th>\n",
       "      <th>b3007</th>\n",
       "      <th>b3008</th>\n",
       "      <th>b3009</th>\n",
       "      <th>b3010</th>\n",
       "      <th>b3011</th>\n",
       "      <th>b3012</th>\n",
       "      <th>b3013</th>\n",
       "    </tr>\n",
       "  </thead>\n",
       "  <tbody>\n",
       "    <tr>\n",
       "      <th>0</th>\n",
       "      <td>O02</td>\n",
       "      <td>10-18-2016 11:15:21</td>\n",
       "      <td>-200</td>\n",
       "      <td>-200</td>\n",
       "      <td>-200</td>\n",
       "      <td>-200</td>\n",
       "      <td>-200</td>\n",
       "      <td>-78</td>\n",
       "      <td>-200</td>\n",
       "      <td>-200</td>\n",
       "      <td>-200</td>\n",
       "      <td>-200</td>\n",
       "      <td>-200</td>\n",
       "      <td>-200</td>\n",
       "      <td>-200</td>\n",
       "    </tr>\n",
       "    <tr>\n",
       "      <th>1</th>\n",
       "      <td>P01</td>\n",
       "      <td>10-18-2016 11:15:19</td>\n",
       "      <td>-200</td>\n",
       "      <td>-200</td>\n",
       "      <td>-200</td>\n",
       "      <td>-200</td>\n",
       "      <td>-200</td>\n",
       "      <td>-78</td>\n",
       "      <td>-200</td>\n",
       "      <td>-200</td>\n",
       "      <td>-200</td>\n",
       "      <td>-200</td>\n",
       "      <td>-200</td>\n",
       "      <td>-200</td>\n",
       "      <td>-200</td>\n",
       "    </tr>\n",
       "    <tr>\n",
       "      <th>2</th>\n",
       "      <td>P01</td>\n",
       "      <td>10-18-2016 11:15:17</td>\n",
       "      <td>-200</td>\n",
       "      <td>-200</td>\n",
       "      <td>-200</td>\n",
       "      <td>-200</td>\n",
       "      <td>-200</td>\n",
       "      <td>-77</td>\n",
       "      <td>-200</td>\n",
       "      <td>-200</td>\n",
       "      <td>-200</td>\n",
       "      <td>-200</td>\n",
       "      <td>-200</td>\n",
       "      <td>-200</td>\n",
       "      <td>-200</td>\n",
       "    </tr>\n",
       "    <tr>\n",
       "      <th>3</th>\n",
       "      <td>P01</td>\n",
       "      <td>10-18-2016 11:15:15</td>\n",
       "      <td>-200</td>\n",
       "      <td>-200</td>\n",
       "      <td>-200</td>\n",
       "      <td>-200</td>\n",
       "      <td>-200</td>\n",
       "      <td>-77</td>\n",
       "      <td>-200</td>\n",
       "      <td>-200</td>\n",
       "      <td>-200</td>\n",
       "      <td>-200</td>\n",
       "      <td>-200</td>\n",
       "      <td>-200</td>\n",
       "      <td>-200</td>\n",
       "    </tr>\n",
       "    <tr>\n",
       "      <th>4</th>\n",
       "      <td>P01</td>\n",
       "      <td>10-18-2016 11:15:13</td>\n",
       "      <td>-200</td>\n",
       "      <td>-200</td>\n",
       "      <td>-200</td>\n",
       "      <td>-200</td>\n",
       "      <td>-200</td>\n",
       "      <td>-77</td>\n",
       "      <td>-200</td>\n",
       "      <td>-200</td>\n",
       "      <td>-200</td>\n",
       "      <td>-200</td>\n",
       "      <td>-200</td>\n",
       "      <td>-200</td>\n",
       "      <td>-200</td>\n",
       "    </tr>\n",
       "  </tbody>\n",
       "</table>\n",
       "</div>"
      ],
      "text/plain": [
       "  location                 date  b3001  b3002  b3003  b3004  b3005  b3006  \\\n",
       "0      O02  10-18-2016 11:15:21   -200   -200   -200   -200   -200    -78   \n",
       "1      P01  10-18-2016 11:15:19   -200   -200   -200   -200   -200    -78   \n",
       "2      P01  10-18-2016 11:15:17   -200   -200   -200   -200   -200    -77   \n",
       "3      P01  10-18-2016 11:15:15   -200   -200   -200   -200   -200    -77   \n",
       "4      P01  10-18-2016 11:15:13   -200   -200   -200   -200   -200    -77   \n",
       "\n",
       "   b3007  b3008  b3009  b3010  b3011  b3012  b3013  \n",
       "0   -200   -200   -200   -200   -200   -200   -200  \n",
       "1   -200   -200   -200   -200   -200   -200   -200  \n",
       "2   -200   -200   -200   -200   -200   -200   -200  \n",
       "3   -200   -200   -200   -200   -200   -200   -200  \n",
       "4   -200   -200   -200   -200   -200   -200   -200  "
      ]
     },
     "execution_count": 276,
     "metadata": {},
     "output_type": "execute_result"
    }
   ],
   "source": [
    "data = pd.read_csv('iBeacon_RSSI_Labeled.csv')\n",
    "data.head()"
   ]
  },
  {
   "cell_type": "code",
   "execution_count": 277,
   "id": "3056648d-bddd-47bb-bad9-d7825141fb78",
   "metadata": {
    "tags": []
   },
   "outputs": [
    {
     "data": {
      "text/plain": [
       "105"
      ]
     },
     "execution_count": 277,
     "metadata": {},
     "output_type": "execute_result"
    }
   ],
   "source": [
    "data['location'].nunique()"
   ]
  },
  {
   "cell_type": "code",
   "execution_count": 278,
   "id": "53bb6c31-9f83-4759-b2d8-bb79b2b168da",
   "metadata": {
    "tags": []
   },
   "outputs": [
    {
     "data": {
      "text/plain": [
       "(1420, 15)"
      ]
     },
     "execution_count": 278,
     "metadata": {},
     "output_type": "execute_result"
    }
   ],
   "source": [
    "data.shape"
   ]
  },
  {
   "cell_type": "code",
   "execution_count": 279,
   "id": "6db84c7a-660f-4a4e-b55e-0ac411391216",
   "metadata": {
    "tags": []
   },
   "outputs": [
    {
     "data": {
      "text/plain": [
       "Index(['location', 'date', 'b3001', 'b3002', 'b3003', 'b3004', 'b3005',\n",
       "       'b3006', 'b3007', 'b3008', 'b3009', 'b3010', 'b3011', 'b3012', 'b3013'],\n",
       "      dtype='object')"
      ]
     },
     "execution_count": 279,
     "metadata": {},
     "output_type": "execute_result"
    }
   ],
   "source": [
    "data.columns"
   ]
  },
  {
   "cell_type": "code",
   "execution_count": 280,
   "id": "841587db-2681-42ed-8b64-bba4de19c78f",
   "metadata": {
    "tags": []
   },
   "outputs": [
    {
     "data": {
      "text/plain": [
       "(location    0\n",
       " date        0\n",
       " b3001       0\n",
       " b3002       0\n",
       " b3003       0\n",
       " b3004       0\n",
       " b3005       0\n",
       " b3006       0\n",
       " b3007       0\n",
       " b3008       0\n",
       " b3009       0\n",
       " b3010       0\n",
       " b3011       0\n",
       " b3012       0\n",
       " b3013       0\n",
       " dtype: int64,\n",
       " (1420, 15))"
      ]
     },
     "execution_count": 280,
     "metadata": {},
     "output_type": "execute_result"
    }
   ],
   "source": [
    "data.isnull().sum(),data.shape"
   ]
  },
  {
   "cell_type": "code",
   "execution_count": 281,
   "id": "bf993348-e8ca-41dd-9c3e-9274003d9275",
   "metadata": {
    "tags": []
   },
   "outputs": [
    {
     "data": {
      "text/plain": [
       "location    object\n",
       "date        object\n",
       "b3001        int64\n",
       "b3002        int64\n",
       "b3003        int64\n",
       "b3004        int64\n",
       "b3005        int64\n",
       "b3006        int64\n",
       "b3007        int64\n",
       "b3008        int64\n",
       "b3009        int64\n",
       "b3010        int64\n",
       "b3011        int64\n",
       "b3012        int64\n",
       "b3013        int64\n",
       "dtype: object"
      ]
     },
     "execution_count": 281,
     "metadata": {},
     "output_type": "execute_result"
    }
   ],
   "source": [
    "data.dtypes"
   ]
  },
  {
   "cell_type": "markdown",
   "id": "c1f72d40-5193-4d06-94eb-9bda7bb81d72",
   "metadata": {
    "tags": []
   },
   "source": [
    "Data Visualzation of different classes "
   ]
  },
  {
   "cell_type": "code",
   "execution_count": 282,
   "id": "85f0d100-6509-4346-bf44-2d00ab51b3cb",
   "metadata": {
    "tags": []
   },
   "outputs": [
    {
     "data": {
      "text/plain": [
       "<Axes: >"
      ]
     },
     "execution_count": 282,
     "metadata": {},
     "output_type": "execute_result"
    },
    {
     "data": {
      "image/png": "[encoded data removed]",
      "text/plain": [
       "<Figure size 500x400 with 1 Axes>"
      ]
     },
     "metadata": {},
     "output_type": "display_data"
    }
   ],
   "source": [
    "loc = data.iloc[:,0]\n",
    "loc.hist(figsize=(5,4))"
   ]
  },
  {
   "cell_type": "markdown",
   "id": "98cf75ef-d10f-4bd2-afef-d00ad49faa5b",
   "metadata": {},
   "source": [
    "ENCODING OF DATASET"
   ]
  },
  {
   "cell_type": "code",
   "execution_count": 283,
   "id": "0dd2dc28-cb49-46b9-9884-ac6fd8af72b1",
   "metadata": {
    "tags": []
   },
   "outputs": [
    {
     "data": {
      "text/html": [
       "<div>\n",
       "<style scoped>\n",
       "    .dataframe tbody tr th:only-of-type {\n",
       "        vertical-align: middle;\n",
       "    }\n",
       "\n",
       "    .dataframe tbody tr th {\n",
       "        vertical-align: top;\n",
       "    }\n",
       "\n",
       "    .dataframe thead th {\n",
       "        text-align: right;\n",
       "    }\n",
       "</style>\n",
       "<table border=\"1\" class=\"dataframe\">\n",
       "  <thead>\n",
       "    <tr style=\"text-align: right;\">\n",
       "      <th></th>\n",
       "      <th>location</th>\n",
       "      <th>date</th>\n",
       "      <th>b3001</th>\n",
       "      <th>b3002</th>\n",
       "      <th>b3003</th>\n",
       "      <th>b3004</th>\n",
       "      <th>b3005</th>\n",
       "      <th>b3006</th>\n",
       "      <th>b3007</th>\n",
       "      <th>b3008</th>\n",
       "      <th>b3009</th>\n",
       "      <th>b3010</th>\n",
       "      <th>b3011</th>\n",
       "      <th>b3012</th>\n",
       "      <th>b3013</th>\n",
       "    </tr>\n",
       "  </thead>\n",
       "  <tbody>\n",
       "    <tr>\n",
       "      <th>0</th>\n",
       "      <td>58</td>\n",
       "      <td>10-18-2016 11:15:21</td>\n",
       "      <td>-200</td>\n",
       "      <td>-200</td>\n",
       "      <td>-200</td>\n",
       "      <td>-200</td>\n",
       "      <td>-200</td>\n",
       "      <td>-78</td>\n",
       "      <td>-200</td>\n",
       "      <td>-200</td>\n",
       "      <td>-200</td>\n",
       "      <td>-200</td>\n",
       "      <td>-200</td>\n",
       "      <td>-200</td>\n",
       "      <td>-200</td>\n",
       "    </tr>\n",
       "    <tr>\n",
       "      <th>1</th>\n",
       "      <td>63</td>\n",
       "      <td>10-18-2016 11:15:19</td>\n",
       "      <td>-200</td>\n",
       "      <td>-200</td>\n",
       "      <td>-200</td>\n",
       "      <td>-200</td>\n",
       "      <td>-200</td>\n",
       "      <td>-78</td>\n",
       "      <td>-200</td>\n",
       "      <td>-200</td>\n",
       "      <td>-200</td>\n",
       "      <td>-200</td>\n",
       "      <td>-200</td>\n",
       "      <td>-200</td>\n",
       "      <td>-200</td>\n",
       "    </tr>\n",
       "    <tr>\n",
       "      <th>2</th>\n",
       "      <td>63</td>\n",
       "      <td>10-18-2016 11:15:17</td>\n",
       "      <td>-200</td>\n",
       "      <td>-200</td>\n",
       "      <td>-200</td>\n",
       "      <td>-200</td>\n",
       "      <td>-200</td>\n",
       "      <td>-77</td>\n",
       "      <td>-200</td>\n",
       "      <td>-200</td>\n",
       "      <td>-200</td>\n",
       "      <td>-200</td>\n",
       "      <td>-200</td>\n",
       "      <td>-200</td>\n",
       "      <td>-200</td>\n",
       "    </tr>\n",
       "    <tr>\n",
       "      <th>3</th>\n",
       "      <td>63</td>\n",
       "      <td>10-18-2016 11:15:15</td>\n",
       "      <td>-200</td>\n",
       "      <td>-200</td>\n",
       "      <td>-200</td>\n",
       "      <td>-200</td>\n",
       "      <td>-200</td>\n",
       "      <td>-77</td>\n",
       "      <td>-200</td>\n",
       "      <td>-200</td>\n",
       "      <td>-200</td>\n",
       "      <td>-200</td>\n",
       "      <td>-200</td>\n",
       "      <td>-200</td>\n",
       "      <td>-200</td>\n",
       "    </tr>\n",
       "    <tr>\n",
       "      <th>4</th>\n",
       "      <td>63</td>\n",
       "      <td>10-18-2016 11:15:13</td>\n",
       "      <td>-200</td>\n",
       "      <td>-200</td>\n",
       "      <td>-200</td>\n",
       "      <td>-200</td>\n",
       "      <td>-200</td>\n",
       "      <td>-77</td>\n",
       "      <td>-200</td>\n",
       "      <td>-200</td>\n",
       "      <td>-200</td>\n",
       "      <td>-200</td>\n",
       "      <td>-200</td>\n",
       "      <td>-200</td>\n",
       "      <td>-200</td>\n",
       "    </tr>\n",
       "  </tbody>\n",
       "</table>\n",
       "</div>"
      ],
      "text/plain": [
       "   location                 date  b3001  b3002  b3003  b3004  b3005  b3006  \\\n",
       "0        58  10-18-2016 11:15:21   -200   -200   -200   -200   -200    -78   \n",
       "1        63  10-18-2016 11:15:19   -200   -200   -200   -200   -200    -78   \n",
       "2        63  10-18-2016 11:15:17   -200   -200   -200   -200   -200    -77   \n",
       "3        63  10-18-2016 11:15:15   -200   -200   -200   -200   -200    -77   \n",
       "4        63  10-18-2016 11:15:13   -200   -200   -200   -200   -200    -77   \n",
       "\n",
       "   b3007  b3008  b3009  b3010  b3011  b3012  b3013  \n",
       "0   -200   -200   -200   -200   -200   -200   -200  \n",
       "1   -200   -200   -200   -200   -200   -200   -200  \n",
       "2   -200   -200   -200   -200   -200   -200   -200  \n",
       "3   -200   -200   -200   -200   -200   -200   -200  \n",
       "4   -200   -200   -200   -200   -200   -200   -200  "
      ]
     },
     "execution_count": 283,
     "metadata": {},
     "output_type": "execute_result"
    }
   ],
   "source": [
    "from sklearn.preprocessing import LabelEncoder\n",
    "le = LabelEncoder()\n",
    "\n",
    "data['location'] = le.fit_transform(data['location'])\n",
    "data.head()"
   ]
  },
  {
   "cell_type": "code",
   "execution_count": 284,
   "id": "75b8e14f-fb83-4cad-8b66-9e0e15ec1881",
   "metadata": {},
   "outputs": [
    {
     "data": {
      "text/html": [
       "<div>\n",
       "<style scoped>\n",
       "    .dataframe tbody tr th:only-of-type {\n",
       "        vertical-align: middle;\n",
       "    }\n",
       "\n",
       "    .dataframe tbody tr th {\n",
       "        vertical-align: top;\n",
       "    }\n",
       "\n",
       "    .dataframe thead th {\n",
       "        text-align: right;\n",
       "    }\n",
       "</style>\n",
       "<table border=\"1\" class=\"dataframe\">\n",
       "  <thead>\n",
       "    <tr style=\"text-align: right;\">\n",
       "      <th></th>\n",
       "      <th>location</th>\n",
       "      <th>date</th>\n",
       "      <th>b3001</th>\n",
       "      <th>b3002</th>\n",
       "      <th>b3003</th>\n",
       "      <th>b3004</th>\n",
       "      <th>b3005</th>\n",
       "      <th>b3006</th>\n",
       "      <th>b3007</th>\n",
       "      <th>b3008</th>\n",
       "      <th>b3009</th>\n",
       "      <th>b3010</th>\n",
       "      <th>b3011</th>\n",
       "      <th>b3012</th>\n",
       "      <th>b3013</th>\n",
       "    </tr>\n",
       "  </thead>\n",
       "  <tbody>\n",
       "    <tr>\n",
       "      <th>1415</th>\n",
       "      <td>6</td>\n",
       "      <td>4-19-2016 9:37:46</td>\n",
       "      <td>-200</td>\n",
       "      <td>-76</td>\n",
       "      <td>-200</td>\n",
       "      <td>-200</td>\n",
       "      <td>-200</td>\n",
       "      <td>-200</td>\n",
       "      <td>-200</td>\n",
       "      <td>-200</td>\n",
       "      <td>-200</td>\n",
       "      <td>-200</td>\n",
       "      <td>-200</td>\n",
       "      <td>-200</td>\n",
       "      <td>-200</td>\n",
       "    </tr>\n",
       "    <tr>\n",
       "      <th>1416</th>\n",
       "      <td>6</td>\n",
       "      <td>4-19-2016 9:37:39</td>\n",
       "      <td>-200</td>\n",
       "      <td>-72</td>\n",
       "      <td>-200</td>\n",
       "      <td>-200</td>\n",
       "      <td>-200</td>\n",
       "      <td>-200</td>\n",
       "      <td>-200</td>\n",
       "      <td>-200</td>\n",
       "      <td>-200</td>\n",
       "      <td>-200</td>\n",
       "      <td>-200</td>\n",
       "      <td>-200</td>\n",
       "      <td>-200</td>\n",
       "    </tr>\n",
       "    <tr>\n",
       "      <th>1417</th>\n",
       "      <td>6</td>\n",
       "      <td>4-19-2016 9:37:36</td>\n",
       "      <td>-200</td>\n",
       "      <td>-67</td>\n",
       "      <td>-200</td>\n",
       "      <td>-200</td>\n",
       "      <td>-200</td>\n",
       "      <td>-200</td>\n",
       "      <td>-200</td>\n",
       "      <td>-200</td>\n",
       "      <td>-200</td>\n",
       "      <td>-200</td>\n",
       "      <td>-200</td>\n",
       "      <td>-200</td>\n",
       "      <td>-200</td>\n",
       "    </tr>\n",
       "    <tr>\n",
       "      <th>1418</th>\n",
       "      <td>6</td>\n",
       "      <td>4-19-2016 9:37:26</td>\n",
       "      <td>-200</td>\n",
       "      <td>-79</td>\n",
       "      <td>-200</td>\n",
       "      <td>-200</td>\n",
       "      <td>-200</td>\n",
       "      <td>-200</td>\n",
       "      <td>-200</td>\n",
       "      <td>-200</td>\n",
       "      <td>-200</td>\n",
       "      <td>-200</td>\n",
       "      <td>-200</td>\n",
       "      <td>-200</td>\n",
       "      <td>-200</td>\n",
       "    </tr>\n",
       "    <tr>\n",
       "      <th>1419</th>\n",
       "      <td>6</td>\n",
       "      <td>4-19-2016 9:37:23</td>\n",
       "      <td>-200</td>\n",
       "      <td>-75</td>\n",
       "      <td>-200</td>\n",
       "      <td>-200</td>\n",
       "      <td>-200</td>\n",
       "      <td>-200</td>\n",
       "      <td>-200</td>\n",
       "      <td>-200</td>\n",
       "      <td>-200</td>\n",
       "      <td>-200</td>\n",
       "      <td>-200</td>\n",
       "      <td>-200</td>\n",
       "      <td>-200</td>\n",
       "    </tr>\n",
       "  </tbody>\n",
       "</table>\n",
       "</div>"
      ],
      "text/plain": [
       "      location               date  b3001  b3002  b3003  b3004  b3005  b3006  \\\n",
       "1415         6  4-19-2016 9:37:46   -200    -76   -200   -200   -200   -200   \n",
       "1416         6  4-19-2016 9:37:39   -200    -72   -200   -200   -200   -200   \n",
       "1417         6  4-19-2016 9:37:36   -200    -67   -200   -200   -200   -200   \n",
       "1418         6  4-19-2016 9:37:26   -200    -79   -200   -200   -200   -200   \n",
       "1419         6  4-19-2016 9:37:23   -200    -75   -200   -200   -200   -200   \n",
       "\n",
       "      b3007  b3008  b3009  b3010  b3011  b3012  b3013  \n",
       "1415   -200   -200   -200   -200   -200   -200   -200  \n",
       "1416   -200   -200   -200   -200   -200   -200   -200  \n",
       "1417   -200   -200   -200   -200   -200   -200   -200  \n",
       "1418   -200   -200   -200   -200   -200   -200   -200  \n",
       "1419   -200   -200   -200   -200   -200   -200   -200  "
      ]
     },
     "execution_count": 284,
     "metadata": {},
     "output_type": "execute_result"
    }
   ],
   "source": [
    "data.tail()"
   ]
  },
  {
   "cell_type": "code",
   "execution_count": 285,
   "id": "9690065a-56d2-410f-8d7c-c8a566c172db",
   "metadata": {
    "tags": []
   },
   "outputs": [
    {
     "data": {
      "text/plain": [
       "location     int32\n",
       "date        object\n",
       "b3001        int64\n",
       "b3002        int64\n",
       "b3003        int64\n",
       "b3004        int64\n",
       "b3005        int64\n",
       "b3006        int64\n",
       "b3007        int64\n",
       "b3008        int64\n",
       "b3009        int64\n",
       "b3010        int64\n",
       "b3011        int64\n",
       "b3012        int64\n",
       "b3013        int64\n",
       "dtype: object"
      ]
     },
     "execution_count": 285,
     "metadata": {},
     "output_type": "execute_result"
    }
   ],
   "source": [
    "data.dtypes"
   ]
  },
  {
   "cell_type": "code",
   "execution_count": 286,
   "id": "8857f34a-89ca-4923-94c6-b64b18b2be78",
   "metadata": {
    "tags": []
   },
   "outputs": [],
   "source": [
    "data['date'] = pd.to_datetime(data['date'], format='%m-%d-%Y %H:%M:%S')"
   ]
  },
  {
   "cell_type": "code",
   "execution_count": 287,
   "id": "4c3679ab-3971-4180-806b-eb08e1a25b02",
   "metadata": {
    "tags": []
   },
   "outputs": [],
   "source": [
    "X = data.drop(['location', 'date'],axis=1)\n",
    "y = data.location"
   ]
  },
  {
   "cell_type": "code",
   "execution_count": 288,
   "id": "eb46435b-5331-4395-bfe7-ae1d0a08bd25",
   "metadata": {
    "tags": []
   },
   "outputs": [
    {
     "data": {
      "text/html": [
       "<div>\n",
       "<style scoped>\n",
       "    .dataframe tbody tr th:only-of-type {\n",
       "        vertical-align: middle;\n",
       "    }\n",
       "\n",
       "    .dataframe tbody tr th {\n",
       "        vertical-align: top;\n",
       "    }\n",
       "\n",
       "    .dataframe thead th {\n",
       "        text-align: right;\n",
       "    }\n",
       "</style>\n",
       "<table border=\"1\" class=\"dataframe\">\n",
       "  <thead>\n",
       "    <tr style=\"text-align: right;\">\n",
       "      <th></th>\n",
       "      <th>b3001</th>\n",
       "      <th>b3002</th>\n",
       "      <th>b3003</th>\n",
       "      <th>b3004</th>\n",
       "      <th>b3005</th>\n",
       "      <th>b3006</th>\n",
       "      <th>b3007</th>\n",
       "      <th>b3008</th>\n",
       "      <th>b3009</th>\n",
       "      <th>b3010</th>\n",
       "      <th>b3011</th>\n",
       "      <th>b3012</th>\n",
       "      <th>b3013</th>\n",
       "    </tr>\n",
       "  </thead>\n",
       "  <tbody>\n",
       "    <tr>\n",
       "      <th>0</th>\n",
       "      <td>-200</td>\n",
       "      <td>-200</td>\n",
       "      <td>-200</td>\n",
       "      <td>-200</td>\n",
       "      <td>-200</td>\n",
       "      <td>-78</td>\n",
       "      <td>-200</td>\n",
       "      <td>-200</td>\n",
       "      <td>-200</td>\n",
       "      <td>-200</td>\n",
       "      <td>-200</td>\n",
       "      <td>-200</td>\n",
       "      <td>-200</td>\n",
       "    </tr>\n",
       "    <tr>\n",
       "      <th>1</th>\n",
       "      <td>-200</td>\n",
       "      <td>-200</td>\n",
       "      <td>-200</td>\n",
       "      <td>-200</td>\n",
       "      <td>-200</td>\n",
       "      <td>-78</td>\n",
       "      <td>-200</td>\n",
       "      <td>-200</td>\n",
       "      <td>-200</td>\n",
       "      <td>-200</td>\n",
       "      <td>-200</td>\n",
       "      <td>-200</td>\n",
       "      <td>-200</td>\n",
       "    </tr>\n",
       "    <tr>\n",
       "      <th>2</th>\n",
       "      <td>-200</td>\n",
       "      <td>-200</td>\n",
       "      <td>-200</td>\n",
       "      <td>-200</td>\n",
       "      <td>-200</td>\n",
       "      <td>-77</td>\n",
       "      <td>-200</td>\n",
       "      <td>-200</td>\n",
       "      <td>-200</td>\n",
       "      <td>-200</td>\n",
       "      <td>-200</td>\n",
       "      <td>-200</td>\n",
       "      <td>-200</td>\n",
       "    </tr>\n",
       "    <tr>\n",
       "      <th>3</th>\n",
       "      <td>-200</td>\n",
       "      <td>-200</td>\n",
       "      <td>-200</td>\n",
       "      <td>-200</td>\n",
       "      <td>-200</td>\n",
       "      <td>-77</td>\n",
       "      <td>-200</td>\n",
       "      <td>-200</td>\n",
       "      <td>-200</td>\n",
       "      <td>-200</td>\n",
       "      <td>-200</td>\n",
       "      <td>-200</td>\n",
       "      <td>-200</td>\n",
       "    </tr>\n",
       "    <tr>\n",
       "      <th>4</th>\n",
       "      <td>-200</td>\n",
       "      <td>-200</td>\n",
       "      <td>-200</td>\n",
       "      <td>-200</td>\n",
       "      <td>-200</td>\n",
       "      <td>-77</td>\n",
       "      <td>-200</td>\n",
       "      <td>-200</td>\n",
       "      <td>-200</td>\n",
       "      <td>-200</td>\n",
       "      <td>-200</td>\n",
       "      <td>-200</td>\n",
       "      <td>-200</td>\n",
       "    </tr>\n",
       "    <tr>\n",
       "      <th>...</th>\n",
       "      <td>...</td>\n",
       "      <td>...</td>\n",
       "      <td>...</td>\n",
       "      <td>...</td>\n",
       "      <td>...</td>\n",
       "      <td>...</td>\n",
       "      <td>...</td>\n",
       "      <td>...</td>\n",
       "      <td>...</td>\n",
       "      <td>...</td>\n",
       "      <td>...</td>\n",
       "      <td>...</td>\n",
       "      <td>...</td>\n",
       "    </tr>\n",
       "    <tr>\n",
       "      <th>1415</th>\n",
       "      <td>-200</td>\n",
       "      <td>-76</td>\n",
       "      <td>-200</td>\n",
       "      <td>-200</td>\n",
       "      <td>-200</td>\n",
       "      <td>-200</td>\n",
       "      <td>-200</td>\n",
       "      <td>-200</td>\n",
       "      <td>-200</td>\n",
       "      <td>-200</td>\n",
       "      <td>-200</td>\n",
       "      <td>-200</td>\n",
       "      <td>-200</td>\n",
       "    </tr>\n",
       "    <tr>\n",
       "      <th>1416</th>\n",
       "      <td>-200</td>\n",
       "      <td>-72</td>\n",
       "      <td>-200</td>\n",
       "      <td>-200</td>\n",
       "      <td>-200</td>\n",
       "      <td>-200</td>\n",
       "      <td>-200</td>\n",
       "      <td>-200</td>\n",
       "      <td>-200</td>\n",
       "      <td>-200</td>\n",
       "      <td>-200</td>\n",
       "      <td>-200</td>\n",
       "      <td>-200</td>\n",
       "    </tr>\n",
       "    <tr>\n",
       "      <th>1417</th>\n",
       "      <td>-200</td>\n",
       "      <td>-67</td>\n",
       "      <td>-200</td>\n",
       "      <td>-200</td>\n",
       "      <td>-200</td>\n",
       "      <td>-200</td>\n",
       "      <td>-200</td>\n",
       "      <td>-200</td>\n",
       "      <td>-200</td>\n",
       "      <td>-200</td>\n",
       "      <td>-200</td>\n",
       "      <td>-200</td>\n",
       "      <td>-200</td>\n",
       "    </tr>\n",
       "    <tr>\n",
       "      <th>1418</th>\n",
       "      <td>-200</td>\n",
       "      <td>-79</td>\n",
       "      <td>-200</td>\n",
       "      <td>-200</td>\n",
       "      <td>-200</td>\n",
       "      <td>-200</td>\n",
       "      <td>-200</td>\n",
       "      <td>-200</td>\n",
       "      <td>-200</td>\n",
       "      <td>-200</td>\n",
       "      <td>-200</td>\n",
       "      <td>-200</td>\n",
       "      <td>-200</td>\n",
       "    </tr>\n",
       "    <tr>\n",
       "      <th>1419</th>\n",
       "      <td>-200</td>\n",
       "      <td>-75</td>\n",
       "      <td>-200</td>\n",
       "      <td>-200</td>\n",
       "      <td>-200</td>\n",
       "      <td>-200</td>\n",
       "      <td>-200</td>\n",
       "      <td>-200</td>\n",
       "      <td>-200</td>\n",
       "      <td>-200</td>\n",
       "      <td>-200</td>\n",
       "      <td>-200</td>\n",
       "      <td>-200</td>\n",
       "    </tr>\n",
       "  </tbody>\n",
       "</table>\n",
       "<p>1420 rows × 13 columns</p>\n",
       "</div>"
      ],
      "text/plain": [
       "      b3001  b3002  b3003  b3004  b3005  b3006  b3007  b3008  b3009  b3010  \\\n",
       "0      -200   -200   -200   -200   -200    -78   -200   -200   -200   -200   \n",
       "1      -200   -200   -200   -200   -200    -78   -200   -200   -200   -200   \n",
       "2      -200   -200   -200   -200   -200    -77   -200   -200   -200   -200   \n",
       "3      -200   -200   -200   -200   -200    -77   -200   -200   -200   -200   \n",
       "4      -200   -200   -200   -200   -200    -77   -200   -200   -200   -200   \n",
       "...     ...    ...    ...    ...    ...    ...    ...    ...    ...    ...   \n",
       "1415   -200    -76   -200   -200   -200   -200   -200   -200   -200   -200   \n",
       "1416   -200    -72   -200   -200   -200   -200   -200   -200   -200   -200   \n",
       "1417   -200    -67   -200   -200   -200   -200   -200   -200   -200   -200   \n",
       "1418   -200    -79   -200   -200   -200   -200   -200   -200   -200   -200   \n",
       "1419   -200    -75   -200   -200   -200   -200   -200   -200   -200   -200   \n",
       "\n",
       "      b3011  b3012  b3013  \n",
       "0      -200   -200   -200  \n",
       "1      -200   -200   -200  \n",
       "2      -200   -200   -200  \n",
       "3      -200   -200   -200  \n",
       "4      -200   -200   -200  \n",
       "...     ...    ...    ...  \n",
       "1415   -200   -200   -200  \n",
       "1416   -200   -200   -200  \n",
       "1417   -200   -200   -200  \n",
       "1418   -200   -200   -200  \n",
       "1419   -200   -200   -200  \n",
       "\n",
       "[1420 rows x 13 columns]"
      ]
     },
     "execution_count": 288,
     "metadata": {},
     "output_type": "execute_result"
    }
   ],
   "source": [
    "X"
   ]
  },
  {
   "cell_type": "code",
   "execution_count": 289,
   "id": "65d31c3a-c173-4f3a-96b6-ea475de2d06d",
   "metadata": {
    "tags": []
   },
   "outputs": [
    {
     "data": {
      "text/plain": [
       "0       58\n",
       "1       63\n",
       "2       63\n",
       "3       63\n",
       "4       63\n",
       "        ..\n",
       "1415     6\n",
       "1416     6\n",
       "1417     6\n",
       "1418     6\n",
       "1419     6\n",
       "Name: location, Length: 1420, dtype: int32"
      ]
     },
     "execution_count": 289,
     "metadata": {},
     "output_type": "execute_result"
    }
   ],
   "source": [
    "y"
   ]
  },
  {
   "cell_type": "markdown",
   "id": "4d19f11d-0b8b-49f3-a5d0-14567e9c1f11",
   "metadata": {},
   "source": [
    "SPLITTING DATASET INTO TRAINING AND TESTING DATASETS"
   ]
  },
  {
   "cell_type": "code",
   "execution_count": 290,
   "id": "39328a8e-c4f2-4a77-b397-948b916b0780",
   "metadata": {
    "tags": []
   },
   "outputs": [],
   "source": [
    "from sklearn.model_selection import train_test_split\n",
    "X_train,X_test,y_train,y_test = train_test_split(X,y,test_size=0.2,random_state = 50)"
   ]
  },
  {
   "cell_type": "code",
   "execution_count": 291,
   "id": "8bf67eee-19a4-4d7a-abf6-c386d84687e6",
   "metadata": {
    "tags": []
   },
   "outputs": [
    {
     "data": {
      "text/plain": [
       "1136"
      ]
     },
     "execution_count": 291,
     "metadata": {},
     "output_type": "execute_result"
    }
   ],
   "source": [
    "len(X_train)"
   ]
  },
  {
   "cell_type": "code",
   "execution_count": 292,
   "id": "d2ea322f-c6b3-40f8-9b6c-063682484d7f",
   "metadata": {
    "tags": []
   },
   "outputs": [
    {
     "data": {
      "text/plain": [
       "284"
      ]
     },
     "execution_count": 292,
     "metadata": {},
     "output_type": "execute_result"
    }
   ],
   "source": [
    "len(X_test)"
   ]
  },
  {
   "cell_type": "markdown",
   "id": "eae545aa-e2ab-4879-a7bd-523ccd0594a3",
   "metadata": {
    "tags": []
   },
   "source": [
    "MODEL TRAINING USING RANDOM FOREST CLASSIFIER"
   ]
  },
  {
   "cell_type": "code",
   "execution_count": 293,
   "id": "13dc4119-0b59-42d1-a343-c752628740a2",
   "metadata": {},
   "outputs": [
    {
     "data": {
      "text/html": [
       "<style>#sk-container-id-24 {color: black;}#sk-container-id-24 pre{padding: 0;}#sk-container-id-24 div.sk-toggleable {background-color: white;}#sk-container-id-24 label.sk-toggleable__label {cursor: pointer;display: block;width: 100%;margin-bottom: 0;padding: 0.3em;box-sizing: border-box;text-align: center;}#sk-container-id-24 label.sk-toggleable__label-arrow:before {content: \"▸\";float: left;margin-right: 0.25em;color: #696969;}#sk-container-id-24 label.sk-toggleable__label-arrow:hover:before {color: black;}#sk-container-id-24 div.sk-estimator:hover label.sk-toggleable__label-arrow:before {color: black;}#sk-container-id-24 div.sk-toggleable__content {max-height: 0;max-width: 0;overflow: hidden;text-align: left;background-color: #f0f8ff;}#sk-container-id-24 div.sk-toggleable__content pre {margin: 0.2em;color: black;border-radius: 0.25em;background-color: #f0f8ff;}#sk-container-id-24 input.sk-toggleable__control:checked~div.sk-toggleable__content {max-height: 200px;max-width: 100%;overflow: auto;}#sk-container-id-24 input.sk-toggleable__control:checked~label.sk-toggleable__label-arrow:before {content: \"▾\";}#sk-container-id-24 div.sk-estimator input.sk-toggleable__control:checked~label.sk-toggleable__label {background-color: #d4ebff;}#sk-container-id-24 div.sk-label input.sk-toggleable__control:checked~label.sk-toggleable__label {background-color: #d4ebff;}#sk-container-id-24 input.sk-hidden--visually {border: 0;clip: rect(1px 1px 1px 1px);clip: rect(1px, 1px, 1px, 1px);height: 1px;margin: -1px;overflow: hidden;padding: 0;position: absolute;width: 1px;}#sk-container-id-24 div.sk-estimator {font-family: monospace;background-color: #f0f8ff;border: 1px dotted black;border-radius: 0.25em;box-sizing: border-box;margin-bottom: 0.5em;}#sk-container-id-24 div.sk-estimator:hover {background-color: #d4ebff;}#sk-container-id-24 div.sk-parallel-item::after {content: \"\";width: 100%;border-bottom: 1px solid gray;flex-grow: 1;}#sk-container-id-24 div.sk-label:hover label.sk-toggleable__label {background-color: #d4ebff;}#sk-container-id-24 div.sk-serial::before {content: \"\";position: absolute;border-left: 1px solid gray;box-sizing: border-box;top: 0;bottom: 0;left: 50%;z-index: 0;}#sk-container-id-24 div.sk-serial {display: flex;flex-direction: column;align-items: center;background-color: white;padding-right: 0.2em;padding-left: 0.2em;position: relative;}#sk-container-id-24 div.sk-item {position: relative;z-index: 1;}#sk-container-id-24 div.sk-parallel {display: flex;align-items: stretch;justify-content: center;background-color: white;position: relative;}#sk-container-id-24 div.sk-item::before, #sk-container-id-24 div.sk-parallel-item::before {content: \"\";position: absolute;border-left: 1px solid gray;box-sizing: border-box;top: 0;bottom: 0;left: 50%;z-index: -1;}#sk-container-id-24 div.sk-parallel-item {display: flex;flex-direction: column;z-index: 1;position: relative;background-color: white;}#sk-container-id-24 div.sk-parallel-item:first-child::after {align-self: flex-end;width: 50%;}#sk-container-id-24 div.sk-parallel-item:last-child::after {align-self: flex-start;width: 50%;}#sk-container-id-24 div.sk-parallel-item:only-child::after {width: 0;}#sk-container-id-24 div.sk-dashed-wrapped {border: 1px dashed gray;margin: 0 0.4em 0.5em 0.4em;box-sizing: border-box;padding-bottom: 0.4em;background-color: white;}#sk-container-id-24 div.sk-label label {font-family: monospace;font-weight: bold;display: inline-block;line-height: 1.2em;}#sk-container-id-24 div.sk-label-container {text-align: center;}#sk-container-id-24 div.sk-container {/* jupyter's `normalize.less` sets `[hidden] { display: none; }` but bootstrap.min.css set `[hidden] { display: none !important; }` so we also need the `!important` here to be able to override the default hidden behavior on the sphinx rendered scikit-learn.org. See: https://github.com/scikit-learn/scikit-learn/issues/21755 */display: inline-block !important;position: relative;}#sk-container-id-24 div.sk-text-repr-fallback {display: none;}</style><div id=\"sk-container-id-24\" class=\"sk-top-container\"><div class=\"sk-text-repr-fallback\"><pre>RandomForestClassifier()</pre><b>In a Jupyter environment, please rerun this cell to show the HTML representation or trust the notebook. <br />On GitHub, the HTML representation is unable to render, please try loading this page with nbviewer.org.</b></div><div class=\"sk-container\" hidden><div class=\"sk-item\"><div class=\"sk-estimator sk-toggleable\"><input class=\"sk-toggleable__control sk-hidden--visually\" id=\"sk-estimator-id-24\" type=\"checkbox\" checked><label for=\"sk-estimator-id-24\" class=\"sk-toggleable__label sk-toggleable__label-arrow\">RandomForestClassifier</label><div class=\"sk-toggleable__content\"><pre>RandomForestClassifier()</pre></div></div></div></div></div>"
      ],
      "text/plain": [
       "RandomForestClassifier()"
      ]
     },
     "execution_count": 293,
     "metadata": {},
     "output_type": "execute_result"
    }
   ],
   "source": [
    "from sklearn.ensemble import RandomForestClassifier\n",
    "rfc = RandomForestClassifier()\n",
    "rfc.fit(X_train,y_train)"
   ]
  },
  {
   "cell_type": "code",
   "execution_count": 294,
   "id": "e880ff57-630e-4da4-91b2-681c3316a488",
   "metadata": {
    "tags": []
   },
   "outputs": [
    {
     "data": {
      "text/plain": [
       "array([ 74,  78,  47,   2,  30,  83,  33,  38,  23,  29,  13,  14,  30,\n",
       "         7,   7,  61,  11,  29,  17,   9,  83,  10,  53,  78,  47,  37,\n",
       "         7,  79,  15,  81,  61,  12,   6,  78,  40,  72,  34,  68,  73,\n",
       "         2,  72,  97,   8,  97,  40,  11,  36,  51,  80,  28,  23,  55,\n",
       "        40,  82,  12,  29,  32,  70,  29,  22,  29,  10,   7,  43,  50,\n",
       "        63,  56,  11,   6,  97,  47,  87,  37,  83,  96,  86, 101,  20,\n",
       "        16, 101,  83,  50,  61,  60,  13,  93,  46,  20,  31,  61,  20,\n",
       "        47,  44,  31,  13,  22, 103,  52,  13,  74,  83,  38,  29,  45,\n",
       "         7,  59,   7,  62,  53,  13,   7,  61,  13,   8,  49,  18,  29,\n",
       "        71,  12,  72,  13,  15,   7,  68,  49,  20,  83,  86,  69,  65,\n",
       "         4,   7,  31,   6,  72,  18,   7,  63,   7,  15,  72,  86,  52,\n",
       "        38,  61,  44,  52,  20,   0,  78,   8,  33,  87,  97,  39,   7,\n",
       "        83,  44,  49, 101,  22,   6,  45,  22,   7,  61,  70,  46,  17,\n",
       "        38,  19,  40, 102,  74,  31,   9,  74,  60,  72,  62,  51,  40,\n",
       "        72,  61,  52,  29,  87,  30,  81,   9,  82,  43,  19,  83,  23,\n",
       "        29,  74,  23,  72,  32,   2,   6,  83,   7,  46,   6,   9,  83,\n",
       "        74,  56,  70,  83,   8,  97,  18,   6,  97,  62,  29,  78,  22,\n",
       "         7,  22,  44,  61,   8,  22,  56,  87,  51,   8,  78,  61,  10,\n",
       "        32,  83,  17,  13,  40,  19,  83,  55,  31,  18, 103,  89,  72,\n",
       "        78, 101, 104,  94,  83,  30,  46,  78,  38, 104,  61,  32,  74,\n",
       "        55,  34,  11,  87,   7,   6, 104,  22,  29,  10,   4,  23,  23,\n",
       "        74,  56,  69,  37,  78,  86,  29,  93,  47,  28,  22])"
      ]
     },
     "execution_count": 294,
     "metadata": {},
     "output_type": "execute_result"
    }
   ],
   "source": [
    "y_pred = rfc.predict(X_test)\n",
    "y_pred"
   ]
  },
  {
   "cell_type": "code",
   "execution_count": 295,
   "id": "c15dd147-fa9b-4abf-9d69-1f5db2540d59",
   "metadata": {
    "tags": []
   },
   "outputs": [
    {
     "name": "stdout",
     "output_type": "stream",
     "text": [
      "Accuracy score of Random Forsst Classifier is :  0.30985915492957744\n",
      "R2 score of Random Forsst Classifier is :  0.8032246623077832\n"
     ]
    }
   ],
   "source": [
    "from sklearn.metrics import r2_score, accuracy_score\n",
    "acc1 = accuracy_score(y_pred,y_test)\n",
    "print(\"Accuracy score of Random Forsst Classifier is : \",acc1)\n",
    "r2_sc1 = r2_score(y_pred,y_test)\n",
    "print(\"R2 score of Random Forsst Classifier is : \",r2_sc1)"
   ]
  },
  {
   "cell_type": "code",
   "execution_count": 296,
   "id": "31a6d2f4-fc6b-4166-9df2-48bb08ef93a6",
   "metadata": {
    "tags": []
   },
   "outputs": [
    {
     "name": "stderr",
     "output_type": "stream",
     "text": [
      "C:\\Users\\Rajnish Kumar\\anaconda3\\Lib\\site-packages\\sklearn\\metrics\\_classification.py:1469: UndefinedMetricWarning: Precision and F-score are ill-defined and being set to 0.0 in labels with no predicted samples. Use `zero_division` parameter to control this behavior.\n",
      "  _warn_prf(average, modifier, msg_start, len(result))\n",
      "C:\\Users\\Rajnish Kumar\\anaconda3\\Lib\\site-packages\\sklearn\\metrics\\_classification.py:1469: UndefinedMetricWarning: Recall and F-score are ill-defined and being set to 0.0 in labels with no true samples. Use `zero_division` parameter to control this behavior.\n",
      "  _warn_prf(average, modifier, msg_start, len(result))\n",
      "C:\\Users\\Rajnish Kumar\\anaconda3\\Lib\\site-packages\\sklearn\\metrics\\_classification.py:1469: UndefinedMetricWarning: Precision and F-score are ill-defined and being set to 0.0 in labels with no predicted samples. Use `zero_division` parameter to control this behavior.\n",
      "  _warn_prf(average, modifier, msg_start, len(result))\n",
      "C:\\Users\\Rajnish Kumar\\anaconda3\\Lib\\site-packages\\sklearn\\metrics\\_classification.py:1469: UndefinedMetricWarning: Recall and F-score are ill-defined and being set to 0.0 in labels with no true samples. Use `zero_division` parameter to control this behavior.\n",
      "  _warn_prf(average, modifier, msg_start, len(result))\n",
      "C:\\Users\\Rajnish Kumar\\anaconda3\\Lib\\site-packages\\sklearn\\metrics\\_classification.py:1469: UndefinedMetricWarning: Precision and F-score are ill-defined and being set to 0.0 in labels with no predicted samples. Use `zero_division` parameter to control this behavior.\n",
      "  _warn_prf(average, modifier, msg_start, len(result))\n",
      "C:\\Users\\Rajnish Kumar\\anaconda3\\Lib\\site-packages\\sklearn\\metrics\\_classification.py:1469: UndefinedMetricWarning: Recall and F-score are ill-defined and being set to 0.0 in labels with no true samples. Use `zero_division` parameter to control this behavior.\n",
      "  _warn_prf(average, modifier, msg_start, len(result))\n"
     ]
    },
    {
     "data": {
      "text/plain": [
       "'              precision    recall  f1-score   support\\n\\n           0       1.00      0.50      0.67         2\\n           2       0.33      1.00      0.50         1\\n           3       0.00      0.00      0.00         1\\n           4       1.00      1.00      1.00         2\\n           6       0.12      0.25      0.17         4\\n           7       0.06      0.20      0.10         5\\n           8       0.33      0.67      0.44         3\\n           9       0.25      0.20      0.22         5\\n          10       0.00      0.00      0.00         2\\n          11       0.25      0.25      0.25         4\\n          12       0.33      0.25      0.29         4\\n          13       0.50      0.67      0.57         6\\n          14       0.00      0.00      0.00         0\\n          15       1.00      1.00      1.00         3\\n          16       1.00      1.00      1.00         1\\n          17       0.00      0.00      0.00         2\\n          18       0.00      0.00      0.00         9\\n          19       0.33      0.20      0.25         5\\n          20       0.00      0.00      0.00         8\\n          21       0.00      0.00      0.00         3\\n          22       0.56      0.71      0.63         7\\n          23       0.50      0.75      0.60         4\\n          25       0.00      0.00      0.00         2\\n          27       0.00      0.00      0.00         1\\n          28       0.00      0.00      0.00         1\\n          29       0.00      0.00      0.00         3\\n          30       0.50      0.22      0.31         9\\n          31       0.20      0.20      0.20         5\\n          32       0.25      0.25      0.25         4\\n          33       1.00      1.00      1.00         2\\n          34       0.50      0.50      0.50         2\\n          35       0.00      0.00      0.00         1\\n          36       1.00      0.25      0.40         4\\n          37       0.33      0.33      0.33         3\\n          38       0.20      0.33      0.25         3\\n          39       1.00      0.25      0.40         4\\n          40       0.33      0.50      0.40         4\\n          41       0.00      0.00      0.00         1\\n          42       0.00      0.00      0.00         2\\n          43       1.00      1.00      1.00         2\\n          44       0.00      0.00      0.00         2\\n          45       0.00      0.00      0.00         1\\n          46       0.50      0.50      0.50         4\\n          47       0.20      0.20      0.20         5\\n          48       0.00      0.00      0.00         2\\n          49       1.00      0.50      0.67         6\\n          50       0.50      0.17      0.25         6\\n          51       0.33      0.33      0.33         3\\n          52       0.25      0.50      0.33         2\\n          53       0.50      0.50      0.50         2\\n          54       0.00      0.00      0.00         1\\n          55       0.67      0.67      0.67         3\\n          56       1.00      1.00      1.00         4\\n          58       0.00      0.00      0.00         1\\n          59       0.00      0.00      0.00         4\\n          60       0.50      0.50      0.50         2\\n          61       0.18      1.00      0.31         2\\n          62       0.00      0.00      0.00         2\\n          63       0.00      0.00      0.00         2\\n          64       0.00      0.00      0.00         2\\n          65       0.00      0.00      0.00         3\\n          67       0.00      0.00      0.00         3\\n          68       0.50      0.25      0.33         4\\n          69       1.00      1.00      1.00         2\\n          70       0.00      0.00      0.00         1\\n          71       0.00      0.00      0.00         1\\n          72       0.11      0.25      0.15         4\\n          73       0.00      0.00      0.00         2\\n          74       0.25      0.33      0.29         6\\n          76       0.00      0.00      0.00         4\\n          77       0.00      0.00      0.00         4\\n          78       0.11      0.25      0.15         4\\n          79       1.00      1.00      1.00         1\\n          80       1.00      0.25      0.40         4\\n          81       0.50      1.00      0.67         1\\n          82       1.00      1.00      1.00         2\\n          83       0.00      0.00      0.00         5\\n          84       0.00      0.00      0.00         6\\n          85       0.00      0.00      0.00         2\\n          86       1.00      1.00      1.00         4\\n          87       0.20      0.33      0.25         3\\n          88       0.00      0.00      0.00         3\\n          89       1.00      1.00      1.00         1\\n          92       0.00      0.00      0.00         2\\n          93       0.00      0.00      0.00         2\\n          94       1.00      0.20      0.33         5\\n          95       0.00      0.00      0.00         1\\n          96       1.00      1.00      1.00         1\\n          97       0.17      0.50      0.25         2\\n          99       0.00      0.00      0.00         2\\n         100       0.00      0.00      0.00         1\\n         101       0.00      0.00      0.00         2\\n         102       0.00      0.00      0.00         0\\n         103       1.00      0.67      0.80         3\\n         104       1.00      1.00      1.00         3\\n\\n    accuracy                           0.31       284\\n   macro avg       0.33      0.32      0.30       284\\nweighted avg       0.35      0.31      0.30       284\\n'"
      ]
     },
     "execution_count": 296,
     "metadata": {},
     "output_type": "execute_result"
    }
   ],
   "source": [
    "from sklearn.metrics import classification_report\n",
    "classification_report(y_test, y_pred)"
   ]
  },
  {
   "cell_type": "markdown",
   "id": "bff05692-c256-4fe9-a85a-f8716ca0ec0a",
   "metadata": {},
   "source": [
    "Graph plot between y_pred and y_test"
   ]
  },
  {
   "cell_type": "code",
   "execution_count": 297,
   "id": "88d3d3d6-d2a3-4856-bfce-35f7d386b4dc",
   "metadata": {
    "tags": []
   },
   "outputs": [
    {
     "data": {
      "image/png": "[encoded data removed]",
      "text/plain": [
       "<Figure size 600x500 with 1 Axes>"
      ]
     },
     "metadata": {},
     "output_type": "display_data"
    }
   ],
   "source": [
    "import matplotlib.pyplot as plt\n",
    "\n",
    "plt.figure(figsize=(6, 5))\n",
    "plt.scatter(y_test, y_pred, s=6)\n",
    "plt.xlabel('Actual values')\n",
    "plt.ylabel('Predicted values')\n",
    "plt.show()\n"
   ]
  },
  {
   "cell_type": "markdown",
   "id": "9c4684e1-f68e-4c1a-a416-741b0175d769",
   "metadata": {},
   "source": [
    "MODEL TRAINING USING DECISION TREE CLASSIFIER"
   ]
  },
  {
   "cell_type": "code",
   "execution_count": 298,
   "id": "c70c0bcd-c63f-442e-923d-c532b2fd62ee",
   "metadata": {
    "tags": []
   },
   "outputs": [
    {
     "data": {
      "text/html": [
       "<style>#sk-container-id-25 {color: black;}#sk-container-id-25 pre{padding: 0;}#sk-container-id-25 div.sk-toggleable {background-color: white;}#sk-container-id-25 label.sk-toggleable__label {cursor: pointer;display: block;width: 100%;margin-bottom: 0;padding: 0.3em;box-sizing: border-box;text-align: center;}#sk-container-id-25 label.sk-toggleable__label-arrow:before {content: \"▸\";float: left;margin-right: 0.25em;color: #696969;}#sk-container-id-25 label.sk-toggleable__label-arrow:hover:before {color: black;}#sk-container-id-25 div.sk-estimator:hover label.sk-toggleable__label-arrow:before {color: black;}#sk-container-id-25 div.sk-toggleable__content {max-height: 0;max-width: 0;overflow: hidden;text-align: left;background-color: #f0f8ff;}#sk-container-id-25 div.sk-toggleable__content pre {margin: 0.2em;color: black;border-radius: 0.25em;background-color: #f0f8ff;}#sk-container-id-25 input.sk-toggleable__control:checked~div.sk-toggleable__content {max-height: 200px;max-width: 100%;overflow: auto;}#sk-container-id-25 input.sk-toggleable__control:checked~label.sk-toggleable__label-arrow:before {content: \"▾\";}#sk-container-id-25 div.sk-estimator input.sk-toggleable__control:checked~label.sk-toggleable__label {background-color: #d4ebff;}#sk-container-id-25 div.sk-label input.sk-toggleable__control:checked~label.sk-toggleable__label {background-color: #d4ebff;}#sk-container-id-25 input.sk-hidden--visually {border: 0;clip: rect(1px 1px 1px 1px);clip: rect(1px, 1px, 1px, 1px);height: 1px;margin: -1px;overflow: hidden;padding: 0;position: absolute;width: 1px;}#sk-container-id-25 div.sk-estimator {font-family: monospace;background-color: #f0f8ff;border: 1px dotted black;border-radius: 0.25em;box-sizing: border-box;margin-bottom: 0.5em;}#sk-container-id-25 div.sk-estimator:hover {background-color: #d4ebff;}#sk-container-id-25 div.sk-parallel-item::after {content: \"\";width: 100%;border-bottom: 1px solid gray;flex-grow: 1;}#sk-container-id-25 div.sk-label:hover label.sk-toggleable__label {background-color: #d4ebff;}#sk-container-id-25 div.sk-serial::before {content: \"\";position: absolute;border-left: 1px solid gray;box-sizing: border-box;top: 0;bottom: 0;left: 50%;z-index: 0;}#sk-container-id-25 div.sk-serial {display: flex;flex-direction: column;align-items: center;background-color: white;padding-right: 0.2em;padding-left: 0.2em;position: relative;}#sk-container-id-25 div.sk-item {position: relative;z-index: 1;}#sk-container-id-25 div.sk-parallel {display: flex;align-items: stretch;justify-content: center;background-color: white;position: relative;}#sk-container-id-25 div.sk-item::before, #sk-container-id-25 div.sk-parallel-item::before {content: \"\";position: absolute;border-left: 1px solid gray;box-sizing: border-box;top: 0;bottom: 0;left: 50%;z-index: -1;}#sk-container-id-25 div.sk-parallel-item {display: flex;flex-direction: column;z-index: 1;position: relative;background-color: white;}#sk-container-id-25 div.sk-parallel-item:first-child::after {align-self: flex-end;width: 50%;}#sk-container-id-25 div.sk-parallel-item:last-child::after {align-self: flex-start;width: 50%;}#sk-container-id-25 div.sk-parallel-item:only-child::after {width: 0;}#sk-container-id-25 div.sk-dashed-wrapped {border: 1px dashed gray;margin: 0 0.4em 0.5em 0.4em;box-sizing: border-box;padding-bottom: 0.4em;background-color: white;}#sk-container-id-25 div.sk-label label {font-family: monospace;font-weight: bold;display: inline-block;line-height: 1.2em;}#sk-container-id-25 div.sk-label-container {text-align: center;}#sk-container-id-25 div.sk-container {/* jupyter's `normalize.less` sets `[hidden] { display: none; }` but bootstrap.min.css set `[hidden] { display: none !important; }` so we also need the `!important` here to be able to override the default hidden behavior on the sphinx rendered scikit-learn.org. See: https://github.com/scikit-learn/scikit-learn/issues/21755 */display: inline-block !important;position: relative;}#sk-container-id-25 div.sk-text-repr-fallback {display: none;}</style><div id=\"sk-container-id-25\" class=\"sk-top-container\"><div class=\"sk-text-repr-fallback\"><pre>DecisionTreeClassifier()</pre><b>In a Jupyter environment, please rerun this cell to show the HTML representation or trust the notebook. <br />On GitHub, the HTML representation is unable to render, please try loading this page with nbviewer.org.</b></div><div class=\"sk-container\" hidden><div class=\"sk-item\"><div class=\"sk-estimator sk-toggleable\"><input class=\"sk-toggleable__control sk-hidden--visually\" id=\"sk-estimator-id-25\" type=\"checkbox\" checked><label for=\"sk-estimator-id-25\" class=\"sk-toggleable__label sk-toggleable__label-arrow\">DecisionTreeClassifier</label><div class=\"sk-toggleable__content\"><pre>DecisionTreeClassifier()</pre></div></div></div></div></div>"
      ],
      "text/plain": [
       "DecisionTreeClassifier()"
      ]
     },
     "execution_count": 298,
     "metadata": {},
     "output_type": "execute_result"
    }
   ],
   "source": [
    "from sklearn.tree import DecisionTreeClassifier\n",
    "dt = DecisionTreeClassifier()\n",
    "dt.fit(X_train,y_train)"
   ]
  },
  {
   "cell_type": "code",
   "execution_count": 299,
   "id": "40c332cd-d84b-492c-8bf2-bcb357d38b93",
   "metadata": {
    "tags": []
   },
   "outputs": [
    {
     "data": {
      "text/plain": [
       "array([ 74,  78,  29,   2,  30,  83,  32,  38,  23,   7,  13,  25,  18,\n",
       "         7,   7,  61,  32,   7,  17,   9,  83,   6,  53,  78,  29,  37,\n",
       "         7,  79,  15,  81,  61,  12,   6,  78,  40,  72,  34,  68,  73,\n",
       "         2,  72,  97,   6,  97,  40,  11,  36,  59,  80,  28,  23,  55,\n",
       "        40,  82,  12,  29,  49,  70,   9,  22,   7,   6,   7,  43,  50,\n",
       "        63,  56,  13,   6,  97,  47,  87,  37,  83,  96,  86, 101,  20,\n",
       "        16, 101,  83,  50,  61,  60,  13,  61,  46,  18,  31,  61,  20,\n",
       "        29,  44,  31,  13,  22, 103,  52,  15,  74,  83,  20,  19,  45,\n",
       "         7,  59,   7,  62,  53,  13,   7,  61,  13,   6,  49,  18,   7,\n",
       "        45,  12,  72,  13,  15,   7,  62,  49,  20,  83,  86,  69,  65,\n",
       "         4,   7,  31,   6,  72,  18,   7,  63,   7,  15,  65,  86,  45,\n",
       "        38,  61,  44,  46,  20,   0,  78,   8,  33,  87,  97,  39,   7,\n",
       "        83,  44,  49, 101,  22,   6,  45,  22,   7,  48,  70,  59,  17,\n",
       "        38,  19,  40, 102,  74,  31,   9,  74,  53,  72,  62,  51,  40,\n",
       "        72,  61,  52,  29,  87,  18,  81,   9,  82,  43,  19,  83,  23,\n",
       "        29,  74,  54,  72,  12,   2,   6,  83,   7,  59,   6,   9,  83,\n",
       "        74,  56,  70,  83,  13,  97,  18,   6,  97,  62,   9,  78,  22,\n",
       "         7,  22,  44,  61,   8,  22,  56,  87,  51,  13,  78,  61,   6,\n",
       "        11,  83,  17,  12,  40,  19,  83,  55,  31,  18, 103,  48,  72,\n",
       "        78, 101, 104,  94,  83,  30,  46,  78,  38, 104,  61,  32,  74,\n",
       "        55,  12,  11,  87,   7,   6, 104,  22,   9,   6,   4,  23,  23,\n",
       "        74,  56,  69,  30,  78,  86,  29,  61,  47,  28,  22])"
      ]
     },
     "execution_count": 299,
     "metadata": {},
     "output_type": "execute_result"
    }
   ],
   "source": [
    "y_pred2 = dt.predict(X_test)\n",
    "y_pred2"
   ]
  },
  {
   "cell_type": "code",
   "execution_count": 300,
   "id": "1ed907a4-ea33-43e4-9955-0c4a5f4fd35f",
   "metadata": {
    "tags": []
   },
   "outputs": [
    {
     "name": "stdout",
     "output_type": "stream",
     "text": [
      "r2 score  of Decision Tree Classifier :  0.7914347182790366\n",
      "Accuracy score of Decision Tree Classifier :  0.31690140845070425\n"
     ]
    }
   ],
   "source": [
    "from sklearn.metrics import r2_score, accuracy_score\n",
    "r2_sc2 = r2_score(y_pred2,y_test)\n",
    "print(\"r2 score  of Decision Tree Classifier : \",r2_sc2)\n",
    "acc_sc2 = accuracy_score(y_pred2,y_test)\n",
    "print(\"Accuracy score of Decision Tree Classifier : \",acc_sc2)"
   ]
  },
  {
   "cell_type": "code",
   "execution_count": 301,
   "id": "43eb6fe0-eb07-439a-b579-82342708c8db",
   "metadata": {
    "tags": []
   },
   "outputs": [
    {
     "name": "stderr",
     "output_type": "stream",
     "text": [
      "C:\\Users\\Rajnish Kumar\\anaconda3\\Lib\\site-packages\\sklearn\\metrics\\_classification.py:1469: UndefinedMetricWarning: Precision and F-score are ill-defined and being set to 0.0 in labels with no predicted samples. Use `zero_division` parameter to control this behavior.\n",
      "  _warn_prf(average, modifier, msg_start, len(result))\n",
      "C:\\Users\\Rajnish Kumar\\anaconda3\\Lib\\site-packages\\sklearn\\metrics\\_classification.py:1469: UndefinedMetricWarning: Recall and F-score are ill-defined and being set to 0.0 in labels with no true samples. Use `zero_division` parameter to control this behavior.\n",
      "  _warn_prf(average, modifier, msg_start, len(result))\n",
      "C:\\Users\\Rajnish Kumar\\anaconda3\\Lib\\site-packages\\sklearn\\metrics\\_classification.py:1469: UndefinedMetricWarning: Precision and F-score are ill-defined and being set to 0.0 in labels with no predicted samples. Use `zero_division` parameter to control this behavior.\n",
      "  _warn_prf(average, modifier, msg_start, len(result))\n",
      "C:\\Users\\Rajnish Kumar\\anaconda3\\Lib\\site-packages\\sklearn\\metrics\\_classification.py:1469: UndefinedMetricWarning: Recall and F-score are ill-defined and being set to 0.0 in labels with no true samples. Use `zero_division` parameter to control this behavior.\n",
      "  _warn_prf(average, modifier, msg_start, len(result))\n",
      "C:\\Users\\Rajnish Kumar\\anaconda3\\Lib\\site-packages\\sklearn\\metrics\\_classification.py:1469: UndefinedMetricWarning: Precision and F-score are ill-defined and being set to 0.0 in labels with no predicted samples. Use `zero_division` parameter to control this behavior.\n",
      "  _warn_prf(average, modifier, msg_start, len(result))\n",
      "C:\\Users\\Rajnish Kumar\\anaconda3\\Lib\\site-packages\\sklearn\\metrics\\_classification.py:1469: UndefinedMetricWarning: Recall and F-score are ill-defined and being set to 0.0 in labels with no true samples. Use `zero_division` parameter to control this behavior.\n",
      "  _warn_prf(average, modifier, msg_start, len(result))\n"
     ]
    },
    {
     "data": {
      "text/plain": [
       "'              precision    recall  f1-score   support\\n\\n           0       1.00      0.50      0.67         2\\n           2       0.33      1.00      0.50         1\\n           3       0.00      0.00      0.00         1\\n           4       1.00      1.00      1.00         2\\n           6       0.14      0.50      0.22         4\\n           7       0.05      0.20      0.08         5\\n           8       0.00      0.00      0.00         3\\n           9       0.14      0.20      0.17         5\\n          10       0.00      0.00      0.00         2\\n          11       0.33      0.25      0.29         4\\n          12       0.17      0.25      0.20         4\\n          13       0.33      0.50      0.40         6\\n          15       0.75      1.00      0.86         3\\n          16       1.00      1.00      1.00         1\\n          17       0.00      0.00      0.00         2\\n          18       0.00      0.00      0.00         9\\n          19       0.25      0.20      0.22         5\\n          20       0.00      0.00      0.00         8\\n          21       0.00      0.00      0.00         3\\n          22       0.56      0.71      0.63         7\\n          23       0.60      0.75      0.67         4\\n          25       1.00      0.50      0.67         2\\n          27       0.00      0.00      0.00         1\\n          28       0.00      0.00      0.00         1\\n          29       0.00      0.00      0.00         3\\n          30       0.33      0.11      0.17         9\\n          31       0.20      0.20      0.20         5\\n          32       0.67      0.50      0.57         4\\n          33       1.00      0.50      0.67         2\\n          34       1.00      0.50      0.67         2\\n          35       0.00      0.00      0.00         1\\n          36       1.00      0.25      0.40         4\\n          37       0.50      0.33      0.40         3\\n          38       0.25      0.33      0.29         3\\n          39       1.00      0.25      0.40         4\\n          40       0.33      0.50      0.40         4\\n          41       0.00      0.00      0.00         1\\n          42       0.00      0.00      0.00         2\\n          43       1.00      1.00      1.00         2\\n          44       0.00      0.00      0.00         2\\n          45       0.00      0.00      0.00         1\\n          46       1.00      0.75      0.86         4\\n          47       0.50      0.20      0.29         5\\n          48       0.50      0.50      0.50         2\\n          49       1.00      0.67      0.80         6\\n          50       0.50      0.17      0.25         6\\n          51       0.50      0.33      0.40         3\\n          52       0.50      0.50      0.50         2\\n          53       0.67      1.00      0.80         2\\n          54       0.00      0.00      0.00         1\\n          55       0.67      0.67      0.67         3\\n          56       1.00      1.00      1.00         4\\n          58       0.00      0.00      0.00         1\\n          59       0.25      0.25      0.25         4\\n          60       1.00      0.50      0.67         2\\n          61       0.17      1.00      0.29         2\\n          62       0.00      0.00      0.00         2\\n          63       0.00      0.00      0.00         2\\n          64       0.00      0.00      0.00         2\\n          65       0.50      0.33      0.40         3\\n          67       0.00      0.00      0.00         3\\n          68       0.00      0.00      0.00         4\\n          69       1.00      1.00      1.00         2\\n          70       0.00      0.00      0.00         1\\n          71       0.00      0.00      0.00         1\\n          72       0.12      0.25      0.17         4\\n          73       0.00      0.00      0.00         2\\n          74       0.25      0.33      0.29         6\\n          76       0.00      0.00      0.00         4\\n          77       0.00      0.00      0.00         4\\n          78       0.11      0.25      0.15         4\\n          79       1.00      1.00      1.00         1\\n          80       1.00      0.25      0.40         4\\n          81       0.50      1.00      0.67         1\\n          82       1.00      1.00      1.00         2\\n          83       0.00      0.00      0.00         5\\n          84       0.00      0.00      0.00         6\\n          85       0.00      0.00      0.00         2\\n          86       1.00      1.00      1.00         4\\n          87       0.20      0.33      0.25         3\\n          88       0.00      0.00      0.00         3\\n          89       0.00      0.00      0.00         1\\n          92       0.00      0.00      0.00         2\\n          93       0.00      0.00      0.00         2\\n          94       1.00      0.20      0.33         5\\n          95       0.00      0.00      0.00         1\\n          96       1.00      1.00      1.00         1\\n          97       0.17      0.50      0.25         2\\n          99       0.00      0.00      0.00         2\\n         100       0.00      0.00      0.00         1\\n         101       0.00      0.00      0.00         2\\n         102       0.00      0.00      0.00         0\\n         103       1.00      0.67      0.80         3\\n         104       1.00      1.00      1.00         3\\n\\n    accuracy                           0.32       284\\n   macro avg       0.36      0.33      0.32       284\\nweighted avg       0.38      0.32      0.31       284\\n'"
      ]
     },
     "execution_count": 301,
     "metadata": {},
     "output_type": "execute_result"
    }
   ],
   "source": [
    "from sklearn.metrics import classification_report\n",
    "classification_report(y_test, y_pred2)"
   ]
  },
  {
   "cell_type": "markdown",
   "id": "bb2767a9-ac5e-4611-8d8a-6ebdf71a5d6e",
   "metadata": {},
   "source": [
    "MODEL TRAINING USING SUPPORT VECTOR MACHINE"
   ]
  },
  {
   "cell_type": "code",
   "execution_count": 302,
   "id": "cc998796-5d19-4f8e-b151-d39313b6ae09",
   "metadata": {
    "tags": []
   },
   "outputs": [
    {
     "data": {
      "text/html": [
       "<style>#sk-container-id-26 {color: black;}#sk-container-id-26 pre{padding: 0;}#sk-container-id-26 div.sk-toggleable {background-color: white;}#sk-container-id-26 label.sk-toggleable__label {cursor: pointer;display: block;width: 100%;margin-bottom: 0;padding: 0.3em;box-sizing: border-box;text-align: center;}#sk-container-id-26 label.sk-toggleable__label-arrow:before {content: \"▸\";float: left;margin-right: 0.25em;color: #696969;}#sk-container-id-26 label.sk-toggleable__label-arrow:hover:before {color: black;}#sk-container-id-26 div.sk-estimator:hover label.sk-toggleable__label-arrow:before {color: black;}#sk-container-id-26 div.sk-toggleable__content {max-height: 0;max-width: 0;overflow: hidden;text-align: left;background-color: #f0f8ff;}#sk-container-id-26 div.sk-toggleable__content pre {margin: 0.2em;color: black;border-radius: 0.25em;background-color: #f0f8ff;}#sk-container-id-26 input.sk-toggleable__control:checked~div.sk-toggleable__content {max-height: 200px;max-width: 100%;overflow: auto;}#sk-container-id-26 input.sk-toggleable__control:checked~label.sk-toggleable__label-arrow:before {content: \"▾\";}#sk-container-id-26 div.sk-estimator input.sk-toggleable__control:checked~label.sk-toggleable__label {background-color: #d4ebff;}#sk-container-id-26 div.sk-label input.sk-toggleable__control:checked~label.sk-toggleable__label {background-color: #d4ebff;}#sk-container-id-26 input.sk-hidden--visually {border: 0;clip: rect(1px 1px 1px 1px);clip: rect(1px, 1px, 1px, 1px);height: 1px;margin: -1px;overflow: hidden;padding: 0;position: absolute;width: 1px;}#sk-container-id-26 div.sk-estimator {font-family: monospace;background-color: #f0f8ff;border: 1px dotted black;border-radius: 0.25em;box-sizing: border-box;margin-bottom: 0.5em;}#sk-container-id-26 div.sk-estimator:hover {background-color: #d4ebff;}#sk-container-id-26 div.sk-parallel-item::after {content: \"\";width: 100%;border-bottom: 1px solid gray;flex-grow: 1;}#sk-container-id-26 div.sk-label:hover label.sk-toggleable__label {background-color: #d4ebff;}#sk-container-id-26 div.sk-serial::before {content: \"\";position: absolute;border-left: 1px solid gray;box-sizing: border-box;top: 0;bottom: 0;left: 50%;z-index: 0;}#sk-container-id-26 div.sk-serial {display: flex;flex-direction: column;align-items: center;background-color: white;padding-right: 0.2em;padding-left: 0.2em;position: relative;}#sk-container-id-26 div.sk-item {position: relative;z-index: 1;}#sk-container-id-26 div.sk-parallel {display: flex;align-items: stretch;justify-content: center;background-color: white;position: relative;}#sk-container-id-26 div.sk-item::before, #sk-container-id-26 div.sk-parallel-item::before {content: \"\";position: absolute;border-left: 1px solid gray;box-sizing: border-box;top: 0;bottom: 0;left: 50%;z-index: -1;}#sk-container-id-26 div.sk-parallel-item {display: flex;flex-direction: column;z-index: 1;position: relative;background-color: white;}#sk-container-id-26 div.sk-parallel-item:first-child::after {align-self: flex-end;width: 50%;}#sk-container-id-26 div.sk-parallel-item:last-child::after {align-self: flex-start;width: 50%;}#sk-container-id-26 div.sk-parallel-item:only-child::after {width: 0;}#sk-container-id-26 div.sk-dashed-wrapped {border: 1px dashed gray;margin: 0 0.4em 0.5em 0.4em;box-sizing: border-box;padding-bottom: 0.4em;background-color: white;}#sk-container-id-26 div.sk-label label {font-family: monospace;font-weight: bold;display: inline-block;line-height: 1.2em;}#sk-container-id-26 div.sk-label-container {text-align: center;}#sk-container-id-26 div.sk-container {/* jupyter's `normalize.less` sets `[hidden] { display: none; }` but bootstrap.min.css set `[hidden] { display: none !important; }` so we also need the `!important` here to be able to override the default hidden behavior on the sphinx rendered scikit-learn.org. See: https://github.com/scikit-learn/scikit-learn/issues/21755 */display: inline-block !important;position: relative;}#sk-container-id-26 div.sk-text-repr-fallback {display: none;}</style><div id=\"sk-container-id-26\" class=\"sk-top-container\"><div class=\"sk-text-repr-fallback\"><pre>SVC()</pre><b>In a Jupyter environment, please rerun this cell to show the HTML representation or trust the notebook. <br />On GitHub, the HTML representation is unable to render, please try loading this page with nbviewer.org.</b></div><div class=\"sk-container\" hidden><div class=\"sk-item\"><div class=\"sk-estimator sk-toggleable\"><input class=\"sk-toggleable__control sk-hidden--visually\" id=\"sk-estimator-id-26\" type=\"checkbox\" checked><label for=\"sk-estimator-id-26\" class=\"sk-toggleable__label sk-toggleable__label-arrow\">SVC</label><div class=\"sk-toggleable__content\"><pre>SVC()</pre></div></div></div></div></div>"
      ],
      "text/plain": [
       "SVC()"
      ]
     },
     "execution_count": 302,
     "metadata": {},
     "output_type": "execute_result"
    }
   ],
   "source": [
    "from sklearn.svm import SVC\n",
    "svc = SVC()\n",
    "svc.fit(X_train,y_train)"
   ]
  },
  {
   "cell_type": "code",
   "execution_count": 303,
   "id": "528daa3b-b128-4148-8674-38b57bb82774",
   "metadata": {
    "tags": []
   },
   "outputs": [
    {
     "data": {
      "text/plain": [
       "array([ 83,  83,  44,   2,  60,  83,  49,  30,  11,  20,  13,  12,  30,\n",
       "        20,  20,  83,  11,  20,  62,  31,  83,  20,  30,  83,  44,  37,\n",
       "        20,  73,  15,  88,  61,  22,  20,  83,  23,  83,  49,  61,  73,\n",
       "         2,  83,  83,  20,  83,  62,  11,  62,  51,  88,  20,  23,  62,\n",
       "        62,  82,  11,  20,  49,  73,  20,  22,  20,  20,  20,  43,  62,\n",
       "        62,  56,  11,  20,  73,  44,  83,  60,  83, 104,  73,  83,  20,\n",
       "        26,  83,  83,  60,  83,  60,  13,  83,  52,  20,  20,  83,  20,\n",
       "        44,  44,  20,  23,  11, 104,  52,  13,  83,  83,  30,  30,  62,\n",
       "        20,  51,  20,  62,  60,  11,  20,  83,  13,  20,  49,  20,  20,\n",
       "        44,  11,  83,  23,  15,  20,  61,  49,  20,  83,  83,  82,  44,\n",
       "         9,  20,  31,  20,  73,  20,  20,  62,  20,  15,  73,  73,  51,\n",
       "        44,  83,  44,  52,  20,   2,  83,  23,  49,  83,  83,  73,  20,\n",
       "        83,  44,  62,  83,  11,  20,  62,  22,  20,  61,  73,  52,  62,\n",
       "        44,  20,  62, 104,  83,  20,  20,  73,  60,  83,  62,  52,  49,\n",
       "        83,  83,  52,  44,  83,  30,  88,  20,  82,  43,  20,  83,  23,\n",
       "        20,  83,  40,  83,  32,   2,  20,  83,  20,  51,  20,  20,  83,\n",
       "        83,  26,  73,  83,  11,  83,  20,  20,  83,  62,  20,  83,  20,\n",
       "        20,  11,  44,  83,  30,  11,  56,  83,  51,  11,  83,  83,  20,\n",
       "        11,  83,  62,  13,  62,  30,  83,  62,  20,  20, 104,  89,  83,\n",
       "        83,  83, 104,  83,  83,  30,  52,  83,  44, 104,  83,  32,  83,\n",
       "        62,  12,  11,  83,  20,  20, 104,  23,  20,  20,   9,  23,  23,\n",
       "        83,  26,  82,  30,  83,  83,  20,  83,  44,  20,  11])"
      ]
     },
     "execution_count": 303,
     "metadata": {},
     "output_type": "execute_result"
    }
   ],
   "source": [
    "y_pred3 = svc.predict(X_test)\n",
    "y_pred3\n"
   ]
  },
  {
   "cell_type": "code",
   "execution_count": 304,
   "id": "8e6c6d09-2fb9-4bdc-8bc5-258785acf875",
   "metadata": {
    "tags": []
   },
   "outputs": [
    {
     "name": "stdout",
     "output_type": "stream",
     "text": [
      "R2 score of Support vector machine Classifier :  0.8307966649018438\n",
      "Accuracy score of Support vector machine Classifier :  0.1936619718309859\n"
     ]
    }
   ],
   "source": [
    "from sklearn.metrics import r2_score, accuracy_score\n",
    "r2_sc3 = r2_score(y_pred3,y_test)\n",
    "print(\"R2 score of Support vector machine Classifier : \",r2_sc3)\n",
    "acc_sc3 = accuracy_score(y_pred3,y_test)\n",
    "print(\"Accuracy score of Support vector machine Classifier : \",acc_sc3)"
   ]
  },
  {
   "cell_type": "code",
   "execution_count": 305,
   "id": "9a78c6ff-9542-4c23-9e6a-4dd70fc236e3",
   "metadata": {},
   "outputs": [
    {
     "name": "stderr",
     "output_type": "stream",
     "text": [
      "C:\\Users\\Rajnish Kumar\\anaconda3\\Lib\\site-packages\\sklearn\\metrics\\_classification.py:1469: UndefinedMetricWarning: Precision and F-score are ill-defined and being set to 0.0 in labels with no predicted samples. Use `zero_division` parameter to control this behavior.\n",
      "  _warn_prf(average, modifier, msg_start, len(result))\n",
      "C:\\Users\\Rajnish Kumar\\anaconda3\\Lib\\site-packages\\sklearn\\metrics\\_classification.py:1469: UndefinedMetricWarning: Recall and F-score are ill-defined and being set to 0.0 in labels with no true samples. Use `zero_division` parameter to control this behavior.\n",
      "  _warn_prf(average, modifier, msg_start, len(result))\n",
      "C:\\Users\\Rajnish Kumar\\anaconda3\\Lib\\site-packages\\sklearn\\metrics\\_classification.py:1469: UndefinedMetricWarning: Precision and F-score are ill-defined and being set to 0.0 in labels with no predicted samples. Use `zero_division` parameter to control this behavior.\n",
      "  _warn_prf(average, modifier, msg_start, len(result))\n",
      "C:\\Users\\Rajnish Kumar\\anaconda3\\Lib\\site-packages\\sklearn\\metrics\\_classification.py:1469: UndefinedMetricWarning: Recall and F-score are ill-defined and being set to 0.0 in labels with no true samples. Use `zero_division` parameter to control this behavior.\n",
      "  _warn_prf(average, modifier, msg_start, len(result))\n",
      "C:\\Users\\Rajnish Kumar\\anaconda3\\Lib\\site-packages\\sklearn\\metrics\\_classification.py:1469: UndefinedMetricWarning: Precision and F-score are ill-defined and being set to 0.0 in labels with no predicted samples. Use `zero_division` parameter to control this behavior.\n",
      "  _warn_prf(average, modifier, msg_start, len(result))\n",
      "C:\\Users\\Rajnish Kumar\\anaconda3\\Lib\\site-packages\\sklearn\\metrics\\_classification.py:1469: UndefinedMetricWarning: Recall and F-score are ill-defined and being set to 0.0 in labels with no true samples. Use `zero_division` parameter to control this behavior.\n",
      "  _warn_prf(average, modifier, msg_start, len(result))\n"
     ]
    },
    {
     "data": {
      "text/plain": [
       "'              precision    recall  f1-score   support\\n\\n           0       0.00      0.00      0.00         2\\n           2       0.25      1.00      0.40         1\\n           3       0.00      0.00      0.00         1\\n           4       0.00      0.00      0.00         2\\n           6       0.00      0.00      0.00         4\\n           7       0.00      0.00      0.00         5\\n           8       0.00      0.00      0.00         3\\n           9       0.00      0.00      0.00         5\\n          10       0.00      0.00      0.00         2\\n          11       0.19      0.75      0.30         4\\n          12       0.00      0.00      0.00         4\\n          13       0.60      0.50      0.55         6\\n          15       1.00      1.00      1.00         3\\n          16       0.00      0.00      0.00         1\\n          17       0.00      0.00      0.00         2\\n          18       0.00      0.00      0.00         9\\n          19       0.00      0.00      0.00         5\\n          20       0.11      0.88      0.20         8\\n          21       0.00      0.00      0.00         3\\n          22       0.67      0.29      0.40         7\\n          23       0.33      0.75      0.46         4\\n          25       0.00      0.00      0.00         2\\n          26       0.00      0.00      0.00         0\\n          27       0.00      0.00      0.00         1\\n          28       0.00      0.00      0.00         1\\n          29       0.00      0.00      0.00         3\\n          30       0.10      0.11      0.11         9\\n          31       0.50      0.20      0.29         5\\n          32       0.50      0.25      0.33         4\\n          33       0.00      0.00      0.00         2\\n          34       0.00      0.00      0.00         2\\n          35       0.00      0.00      0.00         1\\n          36       0.00      0.00      0.00         4\\n          37       1.00      0.33      0.50         3\\n          38       0.00      0.00      0.00         3\\n          39       0.00      0.00      0.00         4\\n          40       0.00      0.00      0.00         4\\n          41       0.00      0.00      0.00         1\\n          42       0.00      0.00      0.00         2\\n          43       1.00      1.00      1.00         2\\n          44       0.13      1.00      0.24         2\\n          45       0.00      0.00      0.00         1\\n          46       0.00      0.00      0.00         4\\n          47       0.00      0.00      0.00         5\\n          48       0.00      0.00      0.00         2\\n          49       0.43      0.50      0.46         6\\n          50       0.00      0.00      0.00         6\\n          51       0.40      0.67      0.50         3\\n          52       0.29      1.00      0.44         2\\n          53       0.00      0.00      0.00         2\\n          54       0.00      0.00      0.00         1\\n          55       0.00      0.00      0.00         3\\n          56       1.00      0.50      0.67         4\\n          58       0.00      0.00      0.00         1\\n          59       0.00      0.00      0.00         4\\n          60       0.33      1.00      0.50         2\\n          61       0.00      0.00      0.00         2\\n          62       0.10      1.00      0.18         2\\n          63       0.00      0.00      0.00         2\\n          64       0.00      0.00      0.00         2\\n          65       0.00      0.00      0.00         3\\n          67       0.00      0.00      0.00         3\\n          68       0.00      0.00      0.00         4\\n          69       0.00      0.00      0.00         2\\n          70       0.00      0.00      0.00         1\\n          71       0.00      0.00      0.00         1\\n          72       0.00      0.00      0.00         4\\n          73       0.00      0.00      0.00         2\\n          74       0.00      0.00      0.00         6\\n          76       0.00      0.00      0.00         4\\n          77       0.00      0.00      0.00         4\\n          78       0.00      0.00      0.00         4\\n          79       0.00      0.00      0.00         1\\n          80       0.00      0.00      0.00         4\\n          81       0.00      0.00      0.00         1\\n          82       0.50      1.00      0.67         2\\n          83       0.08      1.00      0.14         5\\n          84       0.00      0.00      0.00         6\\n          85       0.00      0.00      0.00         2\\n          86       0.00      0.00      0.00         4\\n          87       0.00      0.00      0.00         3\\n          88       0.33      0.33      0.33         3\\n          89       1.00      1.00      1.00         1\\n          92       0.00      0.00      0.00         2\\n          93       0.00      0.00      0.00         2\\n          94       0.00      0.00      0.00         5\\n          95       0.00      0.00      0.00         1\\n          96       0.00      0.00      0.00         1\\n          97       0.00      0.00      0.00         2\\n          99       0.00      0.00      0.00         2\\n         100       0.00      0.00      0.00         1\\n         101       0.00      0.00      0.00         2\\n         103       0.00      0.00      0.00         3\\n         104       0.43      1.00      0.60         3\\n\\n    accuracy                           0.19       284\\n   macro avg       0.12      0.18      0.12       284\\nweighted avg       0.14      0.19      0.13       284\\n'"
      ]
     },
     "execution_count": 305,
     "metadata": {},
     "output_type": "execute_result"
    }
   ],
   "source": [
    "from sklearn.metrics import classification_report\n",
    "classification_report(y_test, y_pred3)"
   ]
  }
 ],
 "metadata": {
  "kernelspec": {
   "display_name": "Python 3 (ipykernel)",
   "language": "python",
   "name": "python3"
  },
  "language_info": {
   "codemirror_mode": {
    "name": "ipython",
    "version": 3
   },
   "file_extension": ".py",
   "mimetype": "text/x-python",
   "name": "python",
   "nbconvert_exporter": "python",
   "pygments_lexer": "ipython3",
   "version": "3.11.5"
  }
 },
 "nbformat": 4,
 "nbformat_minor": 5
}
