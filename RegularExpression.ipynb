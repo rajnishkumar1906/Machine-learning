{
 "cells": [
  {
   "cell_type": "code",
   "execution_count": 9,
   "id": "1d55c5f7-80fe-4c06-937a-7070dfa69d23",
   "metadata": {},
   "outputs": [],
   "source": [
    "import re"
   ]
  },
  {
   "cell_type": "code",
   "execution_count": 10,
   "id": "72ff7cfd-5086-499b-8e15-15300d241200",
   "metadata": {
    "tags": []
   },
   "outputs": [
    {
     "name": "stdout",
     "output_type": "stream",
     "text": [
      "['xyz@yahoo.com', 'jeff245@gmail.com', 'rajnish@gmail.com']\n"
     ]
    }
   ],
   "source": [
    "file = open(\"email.txt\", \"r\")\n",
    "string = file.read()\n",
    "match = re.findall(r'[\\w._%+-]+@[\\w.-]+\\.[a-zA-Z]{2,4}', string)\n",
    "print(match)\n",
    "file.close()"
   ]
  },
  {
   "cell_type": "code",
   "execution_count": 11,
   "id": "c1be6e86-d717-4d32-a381-91d85ab39fe4",
   "metadata": {
    "tags": []
   },
   "outputs": [
    {
     "name": "stdout",
     "output_type": "stream",
     "text": [
      "<re.Match object; span=(6, 15), match='Principle'>\n"
     ]
    }
   ],
   "source": [
    "# re.search()\n",
    "string = 'First Principle thinking is the best technique to improve skills'\n",
    "pattern = 'Principle'\n",
    "exist = re.search(pattern,string)\n",
    "print(exist)"
   ]
  },
  {
   "cell_type": "code",
   "execution_count": 12,
   "id": "46395d2f-7204-4e6e-94cd-199db300e2b5",
   "metadata": {
    "tags": []
   },
   "outputs": [
    {
     "name": "stdout",
     "output_type": "stream",
     "text": [
      "<re.Match object; span=(0, 7), match='Gravity'>\n"
     ]
    }
   ],
   "source": [
    "# re.match()\n",
    "string = 'Gravity is high on poles and less on equator'\n",
    "pattern = 'Gravity'\n",
    "print(re.match(pattern,string))"
   ]
  },
  {
   "cell_type": "code",
   "execution_count": 13,
   "id": "05b65489-35a6-4eaa-81c8-5e5b5f442703",
   "metadata": {
    "tags": []
   },
   "outputs": [
    {
     "name": "stdout",
     "output_type": "stream",
     "text": [
      "['Principle']\n"
     ]
    }
   ],
   "source": [
    "# re.compile()\n",
    "string = 'First Principle thinking is the best technique to improve skills'\n",
    "pattern = re.compile('Principle')     # Storing as cache\n",
    "print(pattern.findall(string))  "
   ]
  },
  {
   "cell_type": "code",
   "execution_count": 14,
   "id": "e7b64841-a9ed-4a21-ab18-909a559ae176",
   "metadata": {
    "tags": []
   },
   "outputs": [
    {
     "name": "stdout",
     "output_type": "stream",
     "text": [
      "Doing known things takes the world from 1 to n, adding more of something familiar. But 0 to 1 is not totally fresh and excited.\n"
     ]
    }
   ],
   "source": [
    "# re.sub()\n",
    "String = 'Doing known things takes the world from 1 to n, adding more of something familiar. But 0 to 1 is totally fresh and excited.'\n",
    "pattern = 'is'\n",
    "new_pattern = 'is not'\n",
    "updated_string = re.sub(pattern,new_pattern,String)\n",
    "print(updated_string)"
   ]
  },
  {
   "cell_type": "code",
   "execution_count": 15,
   "id": "32a0e1e0-0eaa-402e-aaeb-ec30819ecae4",
   "metadata": {
    "tags": []
   },
   "outputs": [
    {
     "name": "stdout",
     "output_type": "stream",
     "text": [
      "['Alpha ', \" Beta are best friends and Gamma doesn't know them \"]\n"
     ]
    }
   ],
   "source": [
    "# re.split()                     ->  splits the stein\n",
    "String = 'Alpha and Beta are best friends and Gamma doesn\\'t know them '\n",
    "pattern = 'and'\n",
    "updated_st = re.split(pattern,String,maxsplit=1)     #maxsplit=0 will split as much split as possible but except 0 , it will perform as it will be assigned\n",
    "print(updated_st)"
   ]
  },
  {
   "cell_type": "code",
   "execution_count": 16,
   "id": "a487a927-c6ea-44aa-a2f8-7ee81715caaa",
   "metadata": {},
   "outputs": [
    {
     "name": "stdout",
     "output_type": "stream",
     "text": [
      "<re.Match object; span=(30, 31), match='^'>\n"
     ]
    }
   ],
   "source": [
    "# Meta Character\n",
    "String = \"Lovely Professional University^.\"\n",
    "pattern = '\\^'\n",
    "print(re.search(pattern,String))"
   ]
  },
  {
   "cell_type": "code",
   "execution_count": 17,
   "id": "7c8c03b7-9905-4a4d-8db5-685ff6ac5583",
   "metadata": {},
   "outputs": [
    {
     "name": "stdin",
     "output_type": "stream",
     "text": [
      "Enter email id :  rajnish@gmail.com\n"
     ]
    },
    {
     "name": "stdout",
     "output_type": "stream",
     "text": [
      "<re.Match object; span=(0, 17), match='rajnish@gmail.com'>\n"
     ]
    }
   ],
   "source": [
    "email = str(input(\"Enter email id : \"))\n",
    "pattern = '[\\w.+%]+@[\\w]+\\.[a-z]+'\n",
    "print(re.search(pattern,email))"
   ]
  },
  {
   "cell_type": "code",
   "execution_count": 18,
   "id": "20c881f2-6ee8-40e8-bd7e-881511d149ba",
   "metadata": {
    "tags": []
   },
   "outputs": [
    {
     "name": "stdout",
     "output_type": "stream",
     "text": [
      "<re.Match object; span=(0, 7), match='rajnish'>\n"
     ]
    }
   ],
   "source": [
    "text = 'rajnish?'\n",
    "pattern = '[\\w]+'\n",
    "print(re.search(pattern,text))"
   ]
  },
  {
   "cell_type": "code",
   "execution_count": 40,
   "id": "1c8af493-5d2b-48a8-a074-543d8d116bf5",
   "metadata": {},
   "outputs": [],
   "source": [
    "import pandas as pd"
   ]
  },
  {
   "cell_type": "code",
   "execution_count": 41,
   "id": "bdcfed44-721d-4148-806b-8827fc8c4140",
   "metadata": {
    "tags": []
   },
   "outputs": [
    {
     "data": {
      "text/html": [
       "<div>\n",
       "<style scoped>\n",
       "    .dataframe tbody tr th:only-of-type {\n",
       "        vertical-align: middle;\n",
       "    }\n",
       "\n",
       "    .dataframe tbody tr th {\n",
       "        vertical-align: top;\n",
       "    }\n",
       "\n",
       "    .dataframe thead th {\n",
       "        text-align: right;\n",
       "    }\n",
       "</style>\n",
       "<table border=\"1\" class=\"dataframe\">\n",
       "  <thead>\n",
       "    <tr style=\"text-align: right;\">\n",
       "      <th></th>\n",
       "      <th>email ID</th>\n",
       "      <th>ID</th>\n",
       "    </tr>\n",
       "  </thead>\n",
       "  <tbody>\n",
       "    <tr>\n",
       "      <th>0</th>\n",
       "      <td>rajnish@gmail.coom</td>\n",
       "      <td>A</td>\n",
       "    </tr>\n",
       "    <tr>\n",
       "      <th>1</th>\n",
       "      <td>ravi@gmail.com</td>\n",
       "      <td>B</td>\n",
       "    </tr>\n",
       "    <tr>\n",
       "      <th>2</th>\n",
       "      <td>chandini@gmail.com</td>\n",
       "      <td>C</td>\n",
       "    </tr>\n",
       "    <tr>\n",
       "      <th>3</th>\n",
       "      <td>rishav@gmail.com</td>\n",
       "      <td>D</td>\n",
       "    </tr>\n",
       "    <tr>\n",
       "      <th>4</th>\n",
       "      <td>alpha@gmail.com</td>\n",
       "      <td>E</td>\n",
       "    </tr>\n",
       "    <tr>\n",
       "      <th>5</th>\n",
       "      <td>beta@gmail.com</td>\n",
       "      <td>F</td>\n",
       "    </tr>\n",
       "    <tr>\n",
       "      <th>6</th>\n",
       "      <td>gamma@gmail.com</td>\n",
       "      <td>G</td>\n",
       "    </tr>\n",
       "    <tr>\n",
       "      <th>7</th>\n",
       "      <td>rajnishk71249@gmail.com</td>\n",
       "      <td>H</td>\n",
       "    </tr>\n",
       "  </tbody>\n",
       "</table>\n",
       "</div>"
      ],
      "text/plain": [
       "                  email ID ID\n",
       "0       rajnish@gmail.coom  A\n",
       "1           ravi@gmail.com  B\n",
       "2       chandini@gmail.com  C\n",
       "3         rishav@gmail.com  D\n",
       "4          alpha@gmail.com  E\n",
       "5           beta@gmail.com  F\n",
       "6          gamma@gmail.com  G\n",
       "7  rajnishk71249@gmail.com  H"
      ]
     },
     "execution_count": 41,
     "metadata": {},
     "output_type": "execute_result"
    }
   ],
   "source": [
    "emails = pd.read_csv(\"rk.csv\")\n",
    "emails"
   ]
  },
  {
   "cell_type": "code",
   "execution_count": 42,
   "id": "250a8465-f5d1-411e-a8a2-91a555eb391b",
   "metadata": {
    "tags": []
   },
   "outputs": [
    {
     "name": "stdout",
     "output_type": "stream",
     "text": [
      "rajnish@yahoo.coom\n",
      "ravi@yahoo.com\n",
      "chandini@yahoo.com\n",
      "rishav@yahoo.com\n",
      "alpha@yahoo.com\n",
      "beta@yahoo.com\n",
      "gamma@yahoo.com\n",
      "rajnishk71249@yahoo.com\n"
     ]
    }
   ],
   "source": [
    "for i,email in enumerate(emails['email ID']):\n",
    "    pattern = '@[a-z]+'\n",
    "    new_pattern = '@yahoo'\n",
    "    email = re.sub(pattern,new_pattern,email)\n",
    "    print(email)\n",
    "    emails.iloc[i,0] = email"
   ]
  },
  {
   "cell_type": "code",
   "execution_count": 43,
   "id": "0fefbf72-cfdc-4a86-a939-2ec3c4826222",
   "metadata": {
    "tags": []
   },
   "outputs": [
    {
     "data": {
      "text/html": [
       "<div>\n",
       "<style scoped>\n",
       "    .dataframe tbody tr th:only-of-type {\n",
       "        vertical-align: middle;\n",
       "    }\n",
       "\n",
       "    .dataframe tbody tr th {\n",
       "        vertical-align: top;\n",
       "    }\n",
       "\n",
       "    .dataframe thead th {\n",
       "        text-align: right;\n",
       "    }\n",
       "</style>\n",
       "<table border=\"1\" class=\"dataframe\">\n",
       "  <thead>\n",
       "    <tr style=\"text-align: right;\">\n",
       "      <th></th>\n",
       "      <th>email ID</th>\n",
       "      <th>ID</th>\n",
       "    </tr>\n",
       "  </thead>\n",
       "  <tbody>\n",
       "    <tr>\n",
       "      <th>0</th>\n",
       "      <td>rajnish@yahoo.coom</td>\n",
       "      <td>A</td>\n",
       "    </tr>\n",
       "    <tr>\n",
       "      <th>1</th>\n",
       "      <td>ravi@yahoo.com</td>\n",
       "      <td>B</td>\n",
       "    </tr>\n",
       "    <tr>\n",
       "      <th>2</th>\n",
       "      <td>chandini@yahoo.com</td>\n",
       "      <td>C</td>\n",
       "    </tr>\n",
       "    <tr>\n",
       "      <th>3</th>\n",
       "      <td>rishav@yahoo.com</td>\n",
       "      <td>D</td>\n",
       "    </tr>\n",
       "    <tr>\n",
       "      <th>4</th>\n",
       "      <td>alpha@yahoo.com</td>\n",
       "      <td>E</td>\n",
       "    </tr>\n",
       "    <tr>\n",
       "      <th>5</th>\n",
       "      <td>beta@yahoo.com</td>\n",
       "      <td>F</td>\n",
       "    </tr>\n",
       "    <tr>\n",
       "      <th>6</th>\n",
       "      <td>gamma@yahoo.com</td>\n",
       "      <td>G</td>\n",
       "    </tr>\n",
       "    <tr>\n",
       "      <th>7</th>\n",
       "      <td>rajnishk71249@yahoo.com</td>\n",
       "      <td>H</td>\n",
       "    </tr>\n",
       "  </tbody>\n",
       "</table>\n",
       "</div>"
      ],
      "text/plain": [
       "                  email ID ID\n",
       "0       rajnish@yahoo.coom  A\n",
       "1           ravi@yahoo.com  B\n",
       "2       chandini@yahoo.com  C\n",
       "3         rishav@yahoo.com  D\n",
       "4          alpha@yahoo.com  E\n",
       "5           beta@yahoo.com  F\n",
       "6          gamma@yahoo.com  G\n",
       "7  rajnishk71249@yahoo.com  H"
      ]
     },
     "execution_count": 43,
     "metadata": {},
     "output_type": "execute_result"
    }
   ],
   "source": [
    "emails"
   ]
  }
 ],
 "metadata": {
  "kernelspec": {
   "display_name": "Python 3 (ipykernel)",
   "language": "python",
   "name": "python3"
  },
  "language_info": {
   "codemirror_mode": {
    "name": "ipython",
    "version": 3
   },
   "file_extension": ".py",
   "mimetype": "text/x-python",
   "name": "python",
   "nbconvert_exporter": "python",
   "pygments_lexer": "ipython3",
   "version": "3.11.5"
  }
 },
 "nbformat": 4,
 "nbformat_minor": 5
}
